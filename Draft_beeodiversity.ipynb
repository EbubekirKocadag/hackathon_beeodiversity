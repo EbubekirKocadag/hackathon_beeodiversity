{
 "cells": [
  {
   "cell_type": "code",
   "execution_count": 126,
   "metadata": {},
   "outputs": [],
   "source": [
    "import pandas as pd\n",
    "from os import listdir\n",
    "from os.path import isfile, join"
   ]
  },
  {
   "cell_type": "code",
   "execution_count": 127,
   "metadata": {},
   "outputs": [],
   "source": [
    "def load_abs_surfs():\n",
    "    abs_surfs = pd.read_excel('data/absSurfs.xlsx').set_index(\"Site\")\n",
    "    abs_surfs = abs_surfs.stack()\n",
    "    abs_surfs.index.names = [\"Site\", \"CLC\"]\n",
    "    idx = abs_surfs.index\n",
    "    abs_surfs.index = abs_surfs.index.set_levels([idx.levels[0].to_series(), idx.levels[1].to_series().astype(int)])\n",
    "    abs_surfs = pd.DataFrame({'surface': abs_surfs})\n",
    "    return abs_surfs"
   ]
  },
  {
   "cell_type": "code",
   "execution_count": 128,
   "metadata": {},
   "outputs": [],
   "source": [
    "def load_pesticides():\n",
    "    pesticides = pd.read_excel('data/pesticides.xlsx').rename(columns={'importName': 'pesticide'})\n",
    "    pesticides = pesticides.set_index(\"pesticide\")\n",
    "    pesticides[\"typeEN\"] = pesticides[\"typeEN\"].str.lower().str.replace(\"and\", \",\",regex=True).str.replace(\" +\", \"\",regex=True)\n",
    "    pesticides[\"familyEN\"] = pesticides[\"familyEN\"].str.lower().str.replace(\" +\", \",\",regex=True)\n",
    "    return pesticides"
   ]
  },
  {
   "cell_type": "code",
   "execution_count": 129,
   "metadata": {},
   "outputs": [],
   "source": [
    "def load_libelles():\n",
    "    a = pd.read_excel('data/clc-nomenclature-c.xls', sheet_name=\"nomenclature_clc_1\").rename(columns={'code_clc_1': \"CLC\"})\n",
    "    b = pd.read_excel('data/clc-nomenclature-c.xls', sheet_name=\"nomenclature_clc_2\").rename(columns={'code_clc_2': \"CLC\"})\n",
    "    c = pd.read_excel('data/clc-nomenclature-c.xls', sheet_name=\"nomenclature_clc_3\").rename(columns={'code_clc_3': \"CLC\"})\n",
    "    libelles = pd.concat((a, b, c)).set_index(\"CLC\")\n",
    "    return libelles"
   ]
  },
  {
   "cell_type": "code",
   "execution_count": 130,
   "metadata": {},
   "outputs": [],
   "source": [
    "def load_disthive():\n",
    "    dist_beehive = pd.read_excel('data/distsOneSheet.xlsx').rename(columns={\"classCLC\": \"CLC\"}).set_index([\"Site\", \"polyID\", \"CLC\"])\n",
    "    return dist_beehive"
   ]
  },
  {
   "cell_type": "code",
   "execution_count": 131,
   "metadata": {},
   "outputs": [],
   "source": [
    "def load_periods(category):\n",
    "    if category not in [\"HM\", \"Pesticides\"]:\n",
    "        raise ValueError(\"cateogry can only be HM or Pesticides\")\n",
    "    \n",
    "    all_data = []\n",
    "    for year in [\"2017\", \"2018\", \"2019\"]:\n",
    "        year_path = f\"data/{year}/{category}\"\n",
    "        onlyfiles = [join(year_path, f) for f in listdir(year_path) if isfile(join(year_path, f)) and f.endswith(\".xlsx\") and not f.startswith('~')]\n",
    "        for excel in onlyfiles:\n",
    "            all_data.append(pd.read_excel(excel))\n",
    "    return pd.concat(all_data).rename(columns={\"REF....SUBSTANCE\": \"Site\", \"PERIOD\": \"Period\"}).set_index([\"Site\", \"Period\"])"
   ]
  },
  {
   "cell_type": "code",
   "execution_count": 132,
   "metadata": {},
   "outputs": [],
   "source": [
    "def load_periods_2020(category):\n",
    "    if category not in [\"HM\", \"Pesticides\"]:\n",
    "        raise ValueError(\"cateogry can only be HM or Pesticides\")\n",
    "\n",
    "    all_data = []\n",
    "    year_path = f\"data/2020/{category}\"\n",
    "    onlyfiles = [join(year_path, f) for f in listdir(year_path) if isfile(join(year_path, f)) and f.endswith(\".xlsx\") and not f.startswith('~')]\n",
    "    for excel in onlyfiles:\n",
    "        all_data.append(pd.read_excel(excel))\n",
    "    return pd.concat(all_data).rename(columns={\"REF....SUBSTANCE\": \"Site\", \"PERIOD\": \"Period\"}).set_index([\"Site\", \"Period\"])"
   ]
  },
  {
   "cell_type": "code",
   "execution_count": 133,
   "metadata": {},
   "outputs": [
    {
     "output_type": "execute_result",
     "data": {
      "text/plain": [
       "                Lead  Cadmium  Arsenic  Mercury  Copper  Chrome  Zinc\n",
       "Site  Period                                                         \n",
       "B0012 2020/P1  0.880    0.290    0.048      0.0    11.0   0.140    51\n",
       "B0017 2020/P1  0.140    0.420    0.000      0.0     7.9   0.066    45\n",
       "B0019 2020/P1  0.150    0.680    0.000      0.0     7.6   0.071    46\n",
       "B0021 2020/P1  0.160    0.470    0.000      0.0     7.3   0.082    40\n",
       "B0023 2020/P1  0.210    0.730    0.030      0.0     8.1   0.081    48\n",
       "...              ...      ...      ...      ...     ...     ...   ...\n",
       "F0035 2020/P4  0.049    0.150    0.093      0.0     6.3   0.087    54\n",
       "F0065 2020/P4  1.400    0.085    0.081      0.0    11.0   0.340    37\n",
       "F0067 2020/P4  0.047    0.090    0.000      0.0     5.1   0.049    21\n",
       "F0071 2020/P4  0.000    0.075    0.035      0.0     5.0   0.056    33\n",
       "F0073 2020/P4  0.058    0.025    0.000      0.0     7.6   0.064    34\n",
       "\n",
       "[151 rows x 7 columns]"
      ],
      "text/html": "<div>\n<style scoped>\n    .dataframe tbody tr th:only-of-type {\n        vertical-align: middle;\n    }\n\n    .dataframe tbody tr th {\n        vertical-align: top;\n    }\n\n    .dataframe thead th {\n        text-align: right;\n    }\n</style>\n<table border=\"1\" class=\"dataframe\">\n  <thead>\n    <tr style=\"text-align: right;\">\n      <th></th>\n      <th></th>\n      <th>Lead</th>\n      <th>Cadmium</th>\n      <th>Arsenic</th>\n      <th>Mercury</th>\n      <th>Copper</th>\n      <th>Chrome</th>\n      <th>Zinc</th>\n    </tr>\n    <tr>\n      <th>Site</th>\n      <th>Period</th>\n      <th></th>\n      <th></th>\n      <th></th>\n      <th></th>\n      <th></th>\n      <th></th>\n      <th></th>\n    </tr>\n  </thead>\n  <tbody>\n    <tr>\n      <th>B0012</th>\n      <th>2020/P1</th>\n      <td>0.880</td>\n      <td>0.290</td>\n      <td>0.048</td>\n      <td>0.0</td>\n      <td>11.0</td>\n      <td>0.140</td>\n      <td>51</td>\n    </tr>\n    <tr>\n      <th>B0017</th>\n      <th>2020/P1</th>\n      <td>0.140</td>\n      <td>0.420</td>\n      <td>0.000</td>\n      <td>0.0</td>\n      <td>7.9</td>\n      <td>0.066</td>\n      <td>45</td>\n    </tr>\n    <tr>\n      <th>B0019</th>\n      <th>2020/P1</th>\n      <td>0.150</td>\n      <td>0.680</td>\n      <td>0.000</td>\n      <td>0.0</td>\n      <td>7.6</td>\n      <td>0.071</td>\n      <td>46</td>\n    </tr>\n    <tr>\n      <th>B0021</th>\n      <th>2020/P1</th>\n      <td>0.160</td>\n      <td>0.470</td>\n      <td>0.000</td>\n      <td>0.0</td>\n      <td>7.3</td>\n      <td>0.082</td>\n      <td>40</td>\n    </tr>\n    <tr>\n      <th>B0023</th>\n      <th>2020/P1</th>\n      <td>0.210</td>\n      <td>0.730</td>\n      <td>0.030</td>\n      <td>0.0</td>\n      <td>8.1</td>\n      <td>0.081</td>\n      <td>48</td>\n    </tr>\n    <tr>\n      <th>...</th>\n      <th>...</th>\n      <td>...</td>\n      <td>...</td>\n      <td>...</td>\n      <td>...</td>\n      <td>...</td>\n      <td>...</td>\n      <td>...</td>\n    </tr>\n    <tr>\n      <th>F0035</th>\n      <th>2020/P4</th>\n      <td>0.049</td>\n      <td>0.150</td>\n      <td>0.093</td>\n      <td>0.0</td>\n      <td>6.3</td>\n      <td>0.087</td>\n      <td>54</td>\n    </tr>\n    <tr>\n      <th>F0065</th>\n      <th>2020/P4</th>\n      <td>1.400</td>\n      <td>0.085</td>\n      <td>0.081</td>\n      <td>0.0</td>\n      <td>11.0</td>\n      <td>0.340</td>\n      <td>37</td>\n    </tr>\n    <tr>\n      <th>F0067</th>\n      <th>2020/P4</th>\n      <td>0.047</td>\n      <td>0.090</td>\n      <td>0.000</td>\n      <td>0.0</td>\n      <td>5.1</td>\n      <td>0.049</td>\n      <td>21</td>\n    </tr>\n    <tr>\n      <th>F0071</th>\n      <th>2020/P4</th>\n      <td>0.000</td>\n      <td>0.075</td>\n      <td>0.035</td>\n      <td>0.0</td>\n      <td>5.0</td>\n      <td>0.056</td>\n      <td>33</td>\n    </tr>\n    <tr>\n      <th>F0073</th>\n      <th>2020/P4</th>\n      <td>0.058</td>\n      <td>0.025</td>\n      <td>0.000</td>\n      <td>0.0</td>\n      <td>7.6</td>\n      <td>0.064</td>\n      <td>34</td>\n    </tr>\n  </tbody>\n</table>\n<p>151 rows × 7 columns</p>\n</div>"
     },
     "metadata": {},
     "execution_count": 133
    }
   ],
   "source": [
    "data_2020 = load_periods_2020(\"HM\")\n",
    "data_2020"
   ]
  },
  {
   "cell_type": "code",
   "execution_count": 134,
   "metadata": {},
   "outputs": [],
   "source": [
    "def load_heavy_metal_lmr():\n",
    "    lmr = pd.read_csv(\"data/LMR.txt\", sep=\"\\t\").drop(\"Unnamed: 7\", axis=1).stack().droplevel(0)\n",
    "    lmr.index.name = \"heavymetal\"\n",
    "    lmr = pd.DataFrame({'LMR': lmr})\n",
    "    return lmr"
   ]
  },
  {
   "cell_type": "code",
   "execution_count": 135,
   "metadata": {},
   "outputs": [],
   "source": [
    "def get_pesticides_flags(phm_grouped, pesticide_cat, pesticides_family):\n",
    "    df = phm_grouped['pesticide'].stack()\n",
    "    # Pesticides\n",
    "    df.index.names = [\"Site\", \"pesticide\"]\n",
    "    site_per_pesticide = df.reset_index().rename(columns={0: 'level'}).set_index('pesticide').merge(pesticides[['LMR']], left_index=True, right_index=True)\n",
    "    site_per_pesticide = site_per_pesticide.assign(\n",
    "        above_LMR=site_per_pesticide['level'] > site_per_pesticide['LMR'],\n",
    "        present=site_per_pesticide['level'] > 0\n",
    "    )\n",
    "\n",
    "    pesticide_cat_per_site = (site_per_pesticide.merge(pesticide_cat, left_index=True, right_index=True).groupby(['Site', 'pesticide_cat']).max())\n",
    "    pesticide_cat_per_site = pesticide_cat_per_site.unstack()\n",
    "\n",
    "    pesticide_fam_per_site = (site_per_pesticide.merge(pesticides_family, left_index=True, right_index=True).groupby(['Site', 'pesticide_family']).max())\n",
    "    pesticide_fam_per_site = pesticide_fam_per_site.unstack()\n",
    "\n",
    "    site_per_pesticide = site_per_pesticide.reset_index().set_index(['Site', 'pesticide'])\n",
    "\n",
    "    pesticides_flags = pd.concat(\n",
    "        [\n",
    "            site_per_pesticide.unstack(),\n",
    "            pesticide_cat_per_site,\n",
    "            pesticide_fam_per_site,\n",
    "        ],\n",
    "        axis=1,\n",
    "        keys=['pesticide', 'pesticide_cat','pesticide_family'],\n",
    "    )\n",
    "    pesticides_flags\n",
    "\n",
    "    return pesticides_flags"
   ]
  },
  {
   "cell_type": "code",
   "execution_count": 136,
   "metadata": {},
   "outputs": [],
   "source": [
    "def get_heavymetal_flags(phm_grouped):\n",
    "    df = phm_grouped['heavymetal'].stack()\n",
    "    # Pesticides\n",
    "    df.index.names = [\"Site\", \"heavymetal\"]\n",
    "    df = df.reset_index().rename(columns={0: 'level'}).set_index('heavymetal')\n",
    "    df = df.merge(heavy_metal_lmr, left_index=True, right_index=True).reset_index().set_index(['Site', 'heavymetal'])\n",
    "    df = df.assign(\n",
    "        above_LMR=df['level'] > df['LMR'],\n",
    "        present=df['level'] > 0\n",
    "    )\n",
    "    df = df.unstack()\n",
    "    # Add column level\n",
    "    df = pd.concat([df], axis=1, keys=['heavymetal'])\n",
    "    return df"
   ]
  },
  {
   "cell_type": "code",
   "execution_count": 137,
   "metadata": {},
   "outputs": [],
   "source": [
    "def get_phm_flags(phm_grouped, pesticide_cat, pesticides_family):\n",
    "    df = pd.concat([\n",
    "        get_pesticides_flags(phm_grouped, pesticide_cat, pesticides_family),\n",
    "        get_heavymetal_flags(phm_grouped),\n",
    "    ], axis=1)\n",
    "    # Drop LMR as it's not useful\n",
    "    df = df.drop(['LMR'], axis=1, level=1)\n",
    "    return df"
   ]
  },
  {
   "cell_type": "code",
   "execution_count": 138,
   "metadata": {},
   "outputs": [
    {
     "output_type": "execute_result",
     "data": {
      "text/plain": [
       "                surface\n",
       "Site  CLC              \n",
       "F0069 111  0.000000e+00\n",
       "      112  1.064122e+06\n",
       "      121  3.587087e+05\n",
       "      122  0.000000e+00\n",
       "      123  0.000000e+00\n",
       "      124  0.000000e+00\n",
       "      131  0.000000e+00\n",
       "      132  0.000000e+00\n",
       "      133  0.000000e+00\n",
       "      141  0.000000e+00"
      ],
      "text/html": "<div>\n<style scoped>\n    .dataframe tbody tr th:only-of-type {\n        vertical-align: middle;\n    }\n\n    .dataframe tbody tr th {\n        vertical-align: top;\n    }\n\n    .dataframe thead th {\n        text-align: right;\n    }\n</style>\n<table border=\"1\" class=\"dataframe\">\n  <thead>\n    <tr style=\"text-align: right;\">\n      <th></th>\n      <th></th>\n      <th>surface</th>\n    </tr>\n    <tr>\n      <th>Site</th>\n      <th>CLC</th>\n      <th></th>\n    </tr>\n  </thead>\n  <tbody>\n    <tr>\n      <th rowspan=\"10\" valign=\"top\">F0069</th>\n      <th>111</th>\n      <td>0.000000e+00</td>\n    </tr>\n    <tr>\n      <th>112</th>\n      <td>1.064122e+06</td>\n    </tr>\n    <tr>\n      <th>121</th>\n      <td>3.587087e+05</td>\n    </tr>\n    <tr>\n      <th>122</th>\n      <td>0.000000e+00</td>\n    </tr>\n    <tr>\n      <th>123</th>\n      <td>0.000000e+00</td>\n    </tr>\n    <tr>\n      <th>124</th>\n      <td>0.000000e+00</td>\n    </tr>\n    <tr>\n      <th>131</th>\n      <td>0.000000e+00</td>\n    </tr>\n    <tr>\n      <th>132</th>\n      <td>0.000000e+00</td>\n    </tr>\n    <tr>\n      <th>133</th>\n      <td>0.000000e+00</td>\n    </tr>\n    <tr>\n      <th>141</th>\n      <td>0.000000e+00</td>\n    </tr>\n  </tbody>\n</table>\n</div>"
     },
     "metadata": {},
     "execution_count": 138
    }
   ],
   "source": [
    "abs_surfs = load_abs_surfs()\n",
    "abs_surfs.head(10)"
   ]
  },
  {
   "cell_type": "code",
   "execution_count": 139,
   "metadata": {},
   "outputs": [
    {
     "output_type": "execute_result",
     "data": {
      "text/plain": [
       "                                          name    statusEN   LMR  \\\n",
       "pesticide                                                          \n",
       "Aclonifen                            aclonifen  authorized  0.05   \n",
       "Aldrin                                  aldrin  prohibited  0.01   \n",
       "Ametoctradin                      ametoctradin  authorized  0.05   \n",
       "Anthraquinone                    anthraquinone  prohibited  0.02   \n",
       "Azoxystrobin                      azoxystrobin  authorized  0.05   \n",
       "Benalaxyl                            benalaxyl  prohibited  0.05   \n",
       "Benfluralin                        benfluralin  authorized  0.05   \n",
       "Benthiavalicarb.iso  benthiavalicarb-isopropyl  authorized  0.05   \n",
       "Benzovindiflupyr              benzovindiflupyr  authorized  0.05   \n",
       "Boscalid                              boscalid  authorized  0.05   \n",
       "\n",
       "                                            familyEN         typeEN  \n",
       "pesticide                                                            \n",
       "Aclonifen                             diphenyl,ether      herbicide  \n",
       "Aldrin                                organochlorine    insecticide  \n",
       "Ametoctradin                      triazolopyrimidine      fungicide  \n",
       "Anthraquinone        polycyclic,aromatic,hydrocarbon  birdrepellant  \n",
       "Azoxystrobin                             strobilurin      fungicide  \n",
       "Benalaxyl                               phenylamides      fungicide  \n",
       "Benfluralin                           dinitroaniline      herbicide  \n",
       "Benthiavalicarb.iso                        carbamate      fungicide  \n",
       "Benzovindiflupyr                               amide      fungicide  \n",
       "Boscalid                                 carboxamide      fungicide  "
      ],
      "text/html": "<div>\n<style scoped>\n    .dataframe tbody tr th:only-of-type {\n        vertical-align: middle;\n    }\n\n    .dataframe tbody tr th {\n        vertical-align: top;\n    }\n\n    .dataframe thead th {\n        text-align: right;\n    }\n</style>\n<table border=\"1\" class=\"dataframe\">\n  <thead>\n    <tr style=\"text-align: right;\">\n      <th></th>\n      <th>name</th>\n      <th>statusEN</th>\n      <th>LMR</th>\n      <th>familyEN</th>\n      <th>typeEN</th>\n    </tr>\n    <tr>\n      <th>pesticide</th>\n      <th></th>\n      <th></th>\n      <th></th>\n      <th></th>\n      <th></th>\n    </tr>\n  </thead>\n  <tbody>\n    <tr>\n      <th>Aclonifen</th>\n      <td>aclonifen</td>\n      <td>authorized</td>\n      <td>0.05</td>\n      <td>diphenyl,ether</td>\n      <td>herbicide</td>\n    </tr>\n    <tr>\n      <th>Aldrin</th>\n      <td>aldrin</td>\n      <td>prohibited</td>\n      <td>0.01</td>\n      <td>organochlorine</td>\n      <td>insecticide</td>\n    </tr>\n    <tr>\n      <th>Ametoctradin</th>\n      <td>ametoctradin</td>\n      <td>authorized</td>\n      <td>0.05</td>\n      <td>triazolopyrimidine</td>\n      <td>fungicide</td>\n    </tr>\n    <tr>\n      <th>Anthraquinone</th>\n      <td>anthraquinone</td>\n      <td>prohibited</td>\n      <td>0.02</td>\n      <td>polycyclic,aromatic,hydrocarbon</td>\n      <td>birdrepellant</td>\n    </tr>\n    <tr>\n      <th>Azoxystrobin</th>\n      <td>azoxystrobin</td>\n      <td>authorized</td>\n      <td>0.05</td>\n      <td>strobilurin</td>\n      <td>fungicide</td>\n    </tr>\n    <tr>\n      <th>Benalaxyl</th>\n      <td>benalaxyl</td>\n      <td>prohibited</td>\n      <td>0.05</td>\n      <td>phenylamides</td>\n      <td>fungicide</td>\n    </tr>\n    <tr>\n      <th>Benfluralin</th>\n      <td>benfluralin</td>\n      <td>authorized</td>\n      <td>0.05</td>\n      <td>dinitroaniline</td>\n      <td>herbicide</td>\n    </tr>\n    <tr>\n      <th>Benthiavalicarb.iso</th>\n      <td>benthiavalicarb-isopropyl</td>\n      <td>authorized</td>\n      <td>0.05</td>\n      <td>carbamate</td>\n      <td>fungicide</td>\n    </tr>\n    <tr>\n      <th>Benzovindiflupyr</th>\n      <td>benzovindiflupyr</td>\n      <td>authorized</td>\n      <td>0.05</td>\n      <td>amide</td>\n      <td>fungicide</td>\n    </tr>\n    <tr>\n      <th>Boscalid</th>\n      <td>boscalid</td>\n      <td>authorized</td>\n      <td>0.05</td>\n      <td>carboxamide</td>\n      <td>fungicide</td>\n    </tr>\n  </tbody>\n</table>\n</div>"
     },
     "metadata": {},
     "execution_count": 139
    }
   ],
   "source": [
    "pesticides = load_pesticides()\n",
    "pesticides.head(10)"
   ]
  },
  {
   "cell_type": "code",
   "execution_count": 140,
   "metadata": {},
   "outputs": [
    {
     "output_type": "execute_result",
     "data": {
      "text/plain": [
       "                          name    statusEN   LMR  familyEN     typeEN\n",
       "pesticide                                                            \n",
       "Terbuthylazine  terbuthylazine  authorized  99.0  triazine  herbicide"
      ],
      "text/html": "<div>\n<style scoped>\n    .dataframe tbody tr th:only-of-type {\n        vertical-align: middle;\n    }\n\n    .dataframe tbody tr th {\n        vertical-align: top;\n    }\n\n    .dataframe thead th {\n        text-align: right;\n    }\n</style>\n<table border=\"1\" class=\"dataframe\">\n  <thead>\n    <tr style=\"text-align: right;\">\n      <th></th>\n      <th>name</th>\n      <th>statusEN</th>\n      <th>LMR</th>\n      <th>familyEN</th>\n      <th>typeEN</th>\n    </tr>\n    <tr>\n      <th>pesticide</th>\n      <th></th>\n      <th></th>\n      <th></th>\n      <th></th>\n      <th></th>\n    </tr>\n  </thead>\n  <tbody>\n    <tr>\n      <th>Terbuthylazine</th>\n      <td>terbuthylazine</td>\n      <td>authorized</td>\n      <td>99.0</td>\n      <td>triazine</td>\n      <td>herbicide</td>\n    </tr>\n  </tbody>\n</table>\n</div>"
     },
     "metadata": {},
     "execution_count": 140
    }
   ],
   "source": [
    "pesticides[pesticides[\"LMR\"]==99.00]"
   ]
  },
  {
   "cell_type": "code",
   "execution_count": 141,
   "metadata": {},
   "outputs": [
    {
     "output_type": "execute_result",
     "data": {
      "text/plain": [
       "             LMR\n",
       "heavymetal      \n",
       "Lead         1.5\n",
       "Cadmium      1.0\n",
       "Arsenic      0.3\n",
       "Mercury      1.0\n",
       "Copper      30.0"
      ],
      "text/html": "<div>\n<style scoped>\n    .dataframe tbody tr th:only-of-type {\n        vertical-align: middle;\n    }\n\n    .dataframe tbody tr th {\n        vertical-align: top;\n    }\n\n    .dataframe thead th {\n        text-align: right;\n    }\n</style>\n<table border=\"1\" class=\"dataframe\">\n  <thead>\n    <tr style=\"text-align: right;\">\n      <th></th>\n      <th>LMR</th>\n    </tr>\n    <tr>\n      <th>heavymetal</th>\n      <th></th>\n    </tr>\n  </thead>\n  <tbody>\n    <tr>\n      <th>Lead</th>\n      <td>1.5</td>\n    </tr>\n    <tr>\n      <th>Cadmium</th>\n      <td>1.0</td>\n    </tr>\n    <tr>\n      <th>Arsenic</th>\n      <td>0.3</td>\n    </tr>\n    <tr>\n      <th>Mercury</th>\n      <td>1.0</td>\n    </tr>\n    <tr>\n      <th>Copper</th>\n      <td>30.0</td>\n    </tr>\n  </tbody>\n</table>\n</div>"
     },
     "metadata": {},
     "execution_count": 141
    }
   ],
   "source": [
    "heavy_metal_lmr = load_heavy_metal_lmr()\n",
    "heavy_metal_lmr.head(10)"
   ]
  },
  {
   "cell_type": "code",
   "execution_count": 142,
   "metadata": {},
   "outputs": [
    {
     "output_type": "execute_result",
     "data": {
      "text/plain": [
       "                                       libelle_en\n",
       "CLC                                              \n",
       "1                             Artificial surfaces\n",
       "2                              Agricultural areas\n",
       "3                   Forest and semi natural areas\n",
       "4                                        Wetlands\n",
       "5                                    Water bodies\n",
       "11                                   Urban fabric\n",
       "12     Industrial, commercial and transport units\n",
       "13              Mine, dump and construction sites\n",
       "14   Artificial, non-agricultural vegetated areas\n",
       "21                                    Arable land"
      ],
      "text/html": "<div>\n<style scoped>\n    .dataframe tbody tr th:only-of-type {\n        vertical-align: middle;\n    }\n\n    .dataframe tbody tr th {\n        vertical-align: top;\n    }\n\n    .dataframe thead th {\n        text-align: right;\n    }\n</style>\n<table border=\"1\" class=\"dataframe\">\n  <thead>\n    <tr style=\"text-align: right;\">\n      <th></th>\n      <th>libelle_en</th>\n    </tr>\n    <tr>\n      <th>CLC</th>\n      <th></th>\n    </tr>\n  </thead>\n  <tbody>\n    <tr>\n      <th>1</th>\n      <td>Artificial surfaces</td>\n    </tr>\n    <tr>\n      <th>2</th>\n      <td>Agricultural areas</td>\n    </tr>\n    <tr>\n      <th>3</th>\n      <td>Forest and semi natural areas</td>\n    </tr>\n    <tr>\n      <th>4</th>\n      <td>Wetlands</td>\n    </tr>\n    <tr>\n      <th>5</th>\n      <td>Water bodies</td>\n    </tr>\n    <tr>\n      <th>11</th>\n      <td>Urban fabric</td>\n    </tr>\n    <tr>\n      <th>12</th>\n      <td>Industrial, commercial and transport units</td>\n    </tr>\n    <tr>\n      <th>13</th>\n      <td>Mine, dump and construction sites</td>\n    </tr>\n    <tr>\n      <th>14</th>\n      <td>Artificial, non-agricultural vegetated areas</td>\n    </tr>\n    <tr>\n      <th>21</th>\n      <td>Arable land</td>\n    </tr>\n  </tbody>\n</table>\n</div>"
     },
     "metadata": {},
     "execution_count": 142
    }
   ],
   "source": [
    "libelles = load_libelles()\n",
    "libelles.head(10)"
   ]
  },
  {
   "cell_type": "code",
   "execution_count": 143,
   "metadata": {},
   "outputs": [
    {
     "output_type": "execute_result",
     "data": {
      "text/plain": [
       "                            dist\n",
       "Site  polyID    CLC             \n",
       "F0069 FR-88090  231  1183.022362\n",
       "      FR-131773 242   289.926324\n",
       "      FR-46167  211   221.344153\n",
       "      FR-11047  112  1038.383069\n",
       "      FR-195343 311   724.045683\n",
       "      FR-34698  142  1094.991277\n",
       "      FR-46111  211   258.423271\n",
       "      FR-27481  121     0.000000\n",
       "      FR-11011  112   788.720024\n",
       "      FR-87971  231  1224.227665"
      ],
      "text/html": "<div>\n<style scoped>\n    .dataframe tbody tr th:only-of-type {\n        vertical-align: middle;\n    }\n\n    .dataframe tbody tr th {\n        vertical-align: top;\n    }\n\n    .dataframe thead th {\n        text-align: right;\n    }\n</style>\n<table border=\"1\" class=\"dataframe\">\n  <thead>\n    <tr style=\"text-align: right;\">\n      <th></th>\n      <th></th>\n      <th></th>\n      <th>dist</th>\n    </tr>\n    <tr>\n      <th>Site</th>\n      <th>polyID</th>\n      <th>CLC</th>\n      <th></th>\n    </tr>\n  </thead>\n  <tbody>\n    <tr>\n      <th rowspan=\"10\" valign=\"top\">F0069</th>\n      <th>FR-88090</th>\n      <th>231</th>\n      <td>1183.022362</td>\n    </tr>\n    <tr>\n      <th>FR-131773</th>\n      <th>242</th>\n      <td>289.926324</td>\n    </tr>\n    <tr>\n      <th>FR-46167</th>\n      <th>211</th>\n      <td>221.344153</td>\n    </tr>\n    <tr>\n      <th>FR-11047</th>\n      <th>112</th>\n      <td>1038.383069</td>\n    </tr>\n    <tr>\n      <th>FR-195343</th>\n      <th>311</th>\n      <td>724.045683</td>\n    </tr>\n    <tr>\n      <th>FR-34698</th>\n      <th>142</th>\n      <td>1094.991277</td>\n    </tr>\n    <tr>\n      <th>FR-46111</th>\n      <th>211</th>\n      <td>258.423271</td>\n    </tr>\n    <tr>\n      <th>FR-27481</th>\n      <th>121</th>\n      <td>0.000000</td>\n    </tr>\n    <tr>\n      <th>FR-11011</th>\n      <th>112</th>\n      <td>788.720024</td>\n    </tr>\n    <tr>\n      <th>FR-87971</th>\n      <th>231</th>\n      <td>1224.227665</td>\n    </tr>\n  </tbody>\n</table>\n</div>"
     },
     "metadata": {},
     "execution_count": 143
    }
   ],
   "source": [
    "disthive = load_disthive()\n",
    "disthive.head(10)"
   ]
  },
  {
   "cell_type": "code",
   "execution_count": 144,
   "metadata": {},
   "outputs": [
    {
     "output_type": "execute_result",
     "data": {
      "text/plain": [
       "                Lead  Cadmium  Arsenic  Mercury  Copper  Chromium  Zinc\n",
       "Site  Period                                                           \n",
       "B0017 2017/P1  0.081    0.810      0.0      0.0     5.5     0.032    40\n",
       "B0019 2017/P1  0.062    0.360      0.0      0.0     8.5     0.029    33\n",
       "B0021 2017/P1  0.150    0.610      0.0      0.0     7.0     0.038    37\n",
       "B0023 2017/P1  0.067    0.350      0.0      0.0     6.9     0.031    37\n",
       "B0037 2017/P1  0.120    0.070      0.0      0.0     5.6     0.052    35\n",
       "B0039 2017/P1  0.280    0.034      0.0      0.0     5.5     0.067    38\n",
       "B0041 2017/P1  0.220    0.096      0.0      0.0     5.6     0.083    33\n",
       "B0043 2017/P1  0.150    0.058      0.0      0.0     6.5     0.061    32\n",
       "B0045 2017/P1  0.270    0.120      0.0      0.0     8.1     0.120    41\n",
       "B0061 2017/P1  0.057    0.180      0.0      0.0     7.4     0.026    35"
      ],
      "text/html": "<div>\n<style scoped>\n    .dataframe tbody tr th:only-of-type {\n        vertical-align: middle;\n    }\n\n    .dataframe tbody tr th {\n        vertical-align: top;\n    }\n\n    .dataframe thead th {\n        text-align: right;\n    }\n</style>\n<table border=\"1\" class=\"dataframe\">\n  <thead>\n    <tr style=\"text-align: right;\">\n      <th></th>\n      <th></th>\n      <th>Lead</th>\n      <th>Cadmium</th>\n      <th>Arsenic</th>\n      <th>Mercury</th>\n      <th>Copper</th>\n      <th>Chromium</th>\n      <th>Zinc</th>\n    </tr>\n    <tr>\n      <th>Site</th>\n      <th>Period</th>\n      <th></th>\n      <th></th>\n      <th></th>\n      <th></th>\n      <th></th>\n      <th></th>\n      <th></th>\n    </tr>\n  </thead>\n  <tbody>\n    <tr>\n      <th>B0017</th>\n      <th>2017/P1</th>\n      <td>0.081</td>\n      <td>0.810</td>\n      <td>0.0</td>\n      <td>0.0</td>\n      <td>5.5</td>\n      <td>0.032</td>\n      <td>40</td>\n    </tr>\n    <tr>\n      <th>B0019</th>\n      <th>2017/P1</th>\n      <td>0.062</td>\n      <td>0.360</td>\n      <td>0.0</td>\n      <td>0.0</td>\n      <td>8.5</td>\n      <td>0.029</td>\n      <td>33</td>\n    </tr>\n    <tr>\n      <th>B0021</th>\n      <th>2017/P1</th>\n      <td>0.150</td>\n      <td>0.610</td>\n      <td>0.0</td>\n      <td>0.0</td>\n      <td>7.0</td>\n      <td>0.038</td>\n      <td>37</td>\n    </tr>\n    <tr>\n      <th>B0023</th>\n      <th>2017/P1</th>\n      <td>0.067</td>\n      <td>0.350</td>\n      <td>0.0</td>\n      <td>0.0</td>\n      <td>6.9</td>\n      <td>0.031</td>\n      <td>37</td>\n    </tr>\n    <tr>\n      <th>B0037</th>\n      <th>2017/P1</th>\n      <td>0.120</td>\n      <td>0.070</td>\n      <td>0.0</td>\n      <td>0.0</td>\n      <td>5.6</td>\n      <td>0.052</td>\n      <td>35</td>\n    </tr>\n    <tr>\n      <th>B0039</th>\n      <th>2017/P1</th>\n      <td>0.280</td>\n      <td>0.034</td>\n      <td>0.0</td>\n      <td>0.0</td>\n      <td>5.5</td>\n      <td>0.067</td>\n      <td>38</td>\n    </tr>\n    <tr>\n      <th>B0041</th>\n      <th>2017/P1</th>\n      <td>0.220</td>\n      <td>0.096</td>\n      <td>0.0</td>\n      <td>0.0</td>\n      <td>5.6</td>\n      <td>0.083</td>\n      <td>33</td>\n    </tr>\n    <tr>\n      <th>B0043</th>\n      <th>2017/P1</th>\n      <td>0.150</td>\n      <td>0.058</td>\n      <td>0.0</td>\n      <td>0.0</td>\n      <td>6.5</td>\n      <td>0.061</td>\n      <td>32</td>\n    </tr>\n    <tr>\n      <th>B0045</th>\n      <th>2017/P1</th>\n      <td>0.270</td>\n      <td>0.120</td>\n      <td>0.0</td>\n      <td>0.0</td>\n      <td>8.1</td>\n      <td>0.120</td>\n      <td>41</td>\n    </tr>\n    <tr>\n      <th>B0061</th>\n      <th>2017/P1</th>\n      <td>0.057</td>\n      <td>0.180</td>\n      <td>0.0</td>\n      <td>0.0</td>\n      <td>7.4</td>\n      <td>0.026</td>\n      <td>35</td>\n    </tr>\n  </tbody>\n</table>\n</div>"
     },
     "metadata": {},
     "execution_count": 144
    }
   ],
   "source": [
    "heavy_metal_periods = load_periods(\"HM\")\n",
    "heavy_metal_periods = heavy_metal_periods.fillna(0)\n",
    "heavy_metal_periods['Chromium'] = heavy_metal_periods['Chromium'] + heavy_metal_periods['Chrome']\n",
    "heavy_metal_periods = heavy_metal_periods.drop(['Chrome'], axis=1)\n",
    "heavy_metal_periods.head(10)"
   ]
  },
  {
   "cell_type": "code",
   "execution_count": 145,
   "metadata": {},
   "outputs": [
    {
     "output_type": "execute_result",
     "data": {
      "text/plain": [
       "                Lead  Cadmium  Arsenic  Mercury  Copper  Chromium  Zinc\n",
       "Site  Period                                                           \n",
       "B0017 2017/P1  0.081    0.810      0.0      0.0     5.5     0.032    40\n",
       "B0019 2017/P1  0.062    0.360      0.0      0.0     8.5     0.029    33\n",
       "B0021 2017/P1  0.150    0.610      0.0      0.0     7.0     0.038    37\n",
       "B0023 2017/P1  0.067    0.350      0.0      0.0     6.9     0.031    37\n",
       "B0037 2017/P1  0.120    0.070      0.0      0.0     5.6     0.052    35\n",
       "B0039 2017/P1  0.280    0.034      0.0      0.0     5.5     0.067    38\n",
       "B0041 2017/P1  0.220    0.096      0.0      0.0     5.6     0.083    33\n",
       "B0043 2017/P1  0.150    0.058      0.0      0.0     6.5     0.061    32\n",
       "B0045 2017/P1  0.270    0.120      0.0      0.0     8.1     0.120    41\n",
       "B0061 2017/P1  0.057    0.180      0.0      0.0     7.4     0.026    35"
      ],
      "text/html": "<div>\n<style scoped>\n    .dataframe tbody tr th:only-of-type {\n        vertical-align: middle;\n    }\n\n    .dataframe tbody tr th {\n        vertical-align: top;\n    }\n\n    .dataframe thead th {\n        text-align: right;\n    }\n</style>\n<table border=\"1\" class=\"dataframe\">\n  <thead>\n    <tr style=\"text-align: right;\">\n      <th></th>\n      <th></th>\n      <th>Lead</th>\n      <th>Cadmium</th>\n      <th>Arsenic</th>\n      <th>Mercury</th>\n      <th>Copper</th>\n      <th>Chromium</th>\n      <th>Zinc</th>\n    </tr>\n    <tr>\n      <th>Site</th>\n      <th>Period</th>\n      <th></th>\n      <th></th>\n      <th></th>\n      <th></th>\n      <th></th>\n      <th></th>\n      <th></th>\n    </tr>\n  </thead>\n  <tbody>\n    <tr>\n      <th>B0017</th>\n      <th>2017/P1</th>\n      <td>0.081</td>\n      <td>0.810</td>\n      <td>0.0</td>\n      <td>0.0</td>\n      <td>5.5</td>\n      <td>0.032</td>\n      <td>40</td>\n    </tr>\n    <tr>\n      <th>B0019</th>\n      <th>2017/P1</th>\n      <td>0.062</td>\n      <td>0.360</td>\n      <td>0.0</td>\n      <td>0.0</td>\n      <td>8.5</td>\n      <td>0.029</td>\n      <td>33</td>\n    </tr>\n    <tr>\n      <th>B0021</th>\n      <th>2017/P1</th>\n      <td>0.150</td>\n      <td>0.610</td>\n      <td>0.0</td>\n      <td>0.0</td>\n      <td>7.0</td>\n      <td>0.038</td>\n      <td>37</td>\n    </tr>\n    <tr>\n      <th>B0023</th>\n      <th>2017/P1</th>\n      <td>0.067</td>\n      <td>0.350</td>\n      <td>0.0</td>\n      <td>0.0</td>\n      <td>6.9</td>\n      <td>0.031</td>\n      <td>37</td>\n    </tr>\n    <tr>\n      <th>B0037</th>\n      <th>2017/P1</th>\n      <td>0.120</td>\n      <td>0.070</td>\n      <td>0.0</td>\n      <td>0.0</td>\n      <td>5.6</td>\n      <td>0.052</td>\n      <td>35</td>\n    </tr>\n    <tr>\n      <th>B0039</th>\n      <th>2017/P1</th>\n      <td>0.280</td>\n      <td>0.034</td>\n      <td>0.0</td>\n      <td>0.0</td>\n      <td>5.5</td>\n      <td>0.067</td>\n      <td>38</td>\n    </tr>\n    <tr>\n      <th>B0041</th>\n      <th>2017/P1</th>\n      <td>0.220</td>\n      <td>0.096</td>\n      <td>0.0</td>\n      <td>0.0</td>\n      <td>5.6</td>\n      <td>0.083</td>\n      <td>33</td>\n    </tr>\n    <tr>\n      <th>B0043</th>\n      <th>2017/P1</th>\n      <td>0.150</td>\n      <td>0.058</td>\n      <td>0.0</td>\n      <td>0.0</td>\n      <td>6.5</td>\n      <td>0.061</td>\n      <td>32</td>\n    </tr>\n    <tr>\n      <th>B0045</th>\n      <th>2017/P1</th>\n      <td>0.270</td>\n      <td>0.120</td>\n      <td>0.0</td>\n      <td>0.0</td>\n      <td>8.1</td>\n      <td>0.120</td>\n      <td>41</td>\n    </tr>\n    <tr>\n      <th>B0061</th>\n      <th>2017/P1</th>\n      <td>0.057</td>\n      <td>0.180</td>\n      <td>0.0</td>\n      <td>0.0</td>\n      <td>7.4</td>\n      <td>0.026</td>\n      <td>35</td>\n    </tr>\n  </tbody>\n</table>\n</div>"
     },
     "metadata": {},
     "execution_count": 145
    }
   ],
   "source": [
    "heavy_metal_periods_2020 = load_periods_2020(\"HM\")\n",
    "heavy_metal_periods_2020 = heavy_metal_periods.fillna(0)\n",
    "heavy_metal_periods_2020.rename(columns={\"Chrome\": \"Chromium\"}, inplace=True)\n",
    "heavy_metal_periods_2020.head(10)"
   ]
  },
  {
   "cell_type": "code",
   "execution_count": 146,
   "metadata": {},
   "outputs": [
    {
     "output_type": "stream",
     "name": "stdout",
     "text": [
      "Aclonifen\nAldrin\nAmetoctradin\nAnthraquinone\nAzoxystrobin\nBenalaxyl\nBenfluralin\nBenthiavalicarb.iso\nBoscalid\nBupirimate\nCaptan\nCarbendazim\nChlorantraniliprole\nChlorothalonil\nChlorotoluron\nChlorpropham\nClethodim\nCyanofenphos\nCyazofamid\nCyflumetofen\nCypermethrin\nCyprodinil\nDeet\nDifenoconazole\nDiflufenican\nDimethomorph\nEpoxiconazole\nEthirimol\nEthofumesate\nEthofumesate.2.keto\nEtofenprox\nFamoxadone\nFenhexamid\nFenpropidin\nFlonicamid\nFluazinam\nFlucythrinate\nFludioxonil\nFlufenacet\nFluopicolide\nFluopyram\nFlutolanil\nHexaconazole\nImidacloprid\nIprovalicarb\nMandipropamid\nMetalaxyl\nMetamitron\nMetconazole\nMethabenzthiazuron\nMethiocarb_total\nMetobromuron\nMetolachlor\nMetrafenone\nPenconazole\nPencycuron\nPendimethalin\nPhenmedipham\nPropamocarb\nPropanil\nPropargite\nPropiconazole\nProsulfocarb\nProthioconazole_d\nPyraclostrobin\nPyrimethanil\nQuinoxyfen\nSpinosad\nTau.fluvalinate\nTebuconazole\nTetraconazole\nTetradifon\nThiacloprid\nTri.allate\nTrifloxystrobin\nX2.phenylphenol\nZoxamide\n"
     ]
    }
   ],
   "source": [
    "pesticides_periods = load_periods(\"Pesticides\")\n",
    "pesticides_periods.head(10)\n",
    "# EthofumesateEthofumesate.2.keto\n",
    "for i in pesticides_periods.columns.sort_values():\n",
    "    print(i)"
   ]
  },
  {
   "cell_type": "code",
   "execution_count": 147,
   "metadata": {},
   "outputs": [
    {
     "output_type": "execute_result",
     "data": {
      "text/plain": [
       "               Ametoctradin  Anthraquinone  Azoxystrobin  Benalaxyl  Boscalid  \\\n",
       "Site  Period                                                                    \n",
       "B0012 2020/P3           0.0          0.000           0.0     0.0000       0.0   \n",
       "B0017 2020/P3           0.0          0.000           0.0     0.0000       0.0   \n",
       "B0019 2020/P3           0.0          0.000           0.0     0.0213       0.0   \n",
       "B0021 2020/P3           0.0          0.000           0.0     0.0000       0.0   \n",
       "B0023 2020/P3           0.0          0.000           0.0     0.0000       0.0   \n",
       "B0032 2020/P3           0.0          0.000           0.0     0.0074       0.0   \n",
       "B0037 2020/P3           0.0          0.000           0.0     0.0000       0.0   \n",
       "B0039 2020/P3           0.0          0.000           0.0     0.0000       0.0   \n",
       "B0041 2020/P3           0.0          0.000           0.0     0.0010       0.0   \n",
       "B0043 2020/P3           0.0          0.005           0.0     0.0000       0.0   \n",
       "\n",
       "               Captan  Carbendazim  Chlorantraniliprole  Chlorpropham  \\\n",
       "Site  Period                                                            \n",
       "B0012 2020/P3   0.014          0.0                  0.0           0.0   \n",
       "B0017 2020/P3   0.000          0.0                  0.0           0.0   \n",
       "B0019 2020/P3   0.000          0.0                  0.0           0.0   \n",
       "B0021 2020/P3   0.039          0.0                  0.0           0.0   \n",
       "B0023 2020/P3   0.012          0.0                  0.0           0.0   \n",
       "B0032 2020/P3   0.000          0.0                  0.0           0.0   \n",
       "B0037 2020/P3   0.220          0.0                  0.0           0.0   \n",
       "B0039 2020/P3   0.000          0.0                  0.0           0.0   \n",
       "B0041 2020/P3   0.028          0.0                  0.0           0.0   \n",
       "B0043 2020/P3   0.012          0.0                  0.0           0.0   \n",
       "\n",
       "               Cyprodinil  ...  Metalaxyl  Metamitron  Methiocarb_total  \\\n",
       "Site  Period               ...                                            \n",
       "B0012 2020/P3         0.0  ...        NaN         NaN               NaN   \n",
       "B0017 2020/P3         0.0  ...        NaN         NaN               NaN   \n",
       "B0019 2020/P3         0.0  ...        NaN         NaN               NaN   \n",
       "B0021 2020/P3         0.0  ...        NaN         NaN               NaN   \n",
       "B0023 2020/P3         0.0  ...        NaN         NaN               NaN   \n",
       "B0032 2020/P3         0.0  ...        NaN         NaN               NaN   \n",
       "B0037 2020/P3         0.0  ...        NaN         NaN               NaN   \n",
       "B0039 2020/P3         0.0  ...        NaN         NaN               NaN   \n",
       "B0041 2020/P3         0.0  ...        NaN         NaN               NaN   \n",
       "B0043 2020/P3         0.0  ...        NaN         NaN               NaN   \n",
       "\n",
       "               Methoxyfenozide  Metobromuron  Propyzamide  Quinoxyfen  \\\n",
       "Site  Period                                                            \n",
       "B0012 2020/P3              NaN           NaN          NaN         NaN   \n",
       "B0017 2020/P3              NaN           NaN          NaN         NaN   \n",
       "B0019 2020/P3              NaN           NaN          NaN         NaN   \n",
       "B0021 2020/P3              NaN           NaN          NaN         NaN   \n",
       "B0023 2020/P3              NaN           NaN          NaN         NaN   \n",
       "B0032 2020/P3              NaN           NaN          NaN         NaN   \n",
       "B0037 2020/P3              NaN           NaN          NaN         NaN   \n",
       "B0039 2020/P3              NaN           NaN          NaN         NaN   \n",
       "B0041 2020/P3              NaN           NaN          NaN         NaN   \n",
       "B0043 2020/P3              NaN           NaN          NaN         NaN   \n",
       "\n",
       "               Tebufenozide  Thiacloprid  Tri.allate  \n",
       "Site  Period                                          \n",
       "B0012 2020/P3           NaN          NaN         NaN  \n",
       "B0017 2020/P3           NaN          NaN         NaN  \n",
       "B0019 2020/P3           NaN          NaN         NaN  \n",
       "B0021 2020/P3           NaN          NaN         NaN  \n",
       "B0023 2020/P3           NaN          NaN         NaN  \n",
       "B0032 2020/P3           NaN          NaN         NaN  \n",
       "B0037 2020/P3           NaN          NaN         NaN  \n",
       "B0039 2020/P3           NaN          NaN         NaN  \n",
       "B0041 2020/P3           NaN          NaN         NaN  \n",
       "B0043 2020/P3           NaN          NaN         NaN  \n",
       "\n",
       "[10 rows x 91 columns]"
      ],
      "text/html": "<div>\n<style scoped>\n    .dataframe tbody tr th:only-of-type {\n        vertical-align: middle;\n    }\n\n    .dataframe tbody tr th {\n        vertical-align: top;\n    }\n\n    .dataframe thead th {\n        text-align: right;\n    }\n</style>\n<table border=\"1\" class=\"dataframe\">\n  <thead>\n    <tr style=\"text-align: right;\">\n      <th></th>\n      <th></th>\n      <th>Ametoctradin</th>\n      <th>Anthraquinone</th>\n      <th>Azoxystrobin</th>\n      <th>Benalaxyl</th>\n      <th>Boscalid</th>\n      <th>Captan</th>\n      <th>Carbendazim</th>\n      <th>Chlorantraniliprole</th>\n      <th>Chlorpropham</th>\n      <th>Cyprodinil</th>\n      <th>...</th>\n      <th>Metalaxyl</th>\n      <th>Metamitron</th>\n      <th>Methiocarb_total</th>\n      <th>Methoxyfenozide</th>\n      <th>Metobromuron</th>\n      <th>Propyzamide</th>\n      <th>Quinoxyfen</th>\n      <th>Tebufenozide</th>\n      <th>Thiacloprid</th>\n      <th>Tri.allate</th>\n    </tr>\n    <tr>\n      <th>Site</th>\n      <th>Period</th>\n      <th></th>\n      <th></th>\n      <th></th>\n      <th></th>\n      <th></th>\n      <th></th>\n      <th></th>\n      <th></th>\n      <th></th>\n      <th></th>\n      <th></th>\n      <th></th>\n      <th></th>\n      <th></th>\n      <th></th>\n      <th></th>\n      <th></th>\n      <th></th>\n      <th></th>\n      <th></th>\n      <th></th>\n    </tr>\n  </thead>\n  <tbody>\n    <tr>\n      <th>B0012</th>\n      <th>2020/P3</th>\n      <td>0.0</td>\n      <td>0.000</td>\n      <td>0.0</td>\n      <td>0.0000</td>\n      <td>0.0</td>\n      <td>0.014</td>\n      <td>0.0</td>\n      <td>0.0</td>\n      <td>0.0</td>\n      <td>0.0</td>\n      <td>...</td>\n      <td>NaN</td>\n      <td>NaN</td>\n      <td>NaN</td>\n      <td>NaN</td>\n      <td>NaN</td>\n      <td>NaN</td>\n      <td>NaN</td>\n      <td>NaN</td>\n      <td>NaN</td>\n      <td>NaN</td>\n    </tr>\n    <tr>\n      <th>B0017</th>\n      <th>2020/P3</th>\n      <td>0.0</td>\n      <td>0.000</td>\n      <td>0.0</td>\n      <td>0.0000</td>\n      <td>0.0</td>\n      <td>0.000</td>\n      <td>0.0</td>\n      <td>0.0</td>\n      <td>0.0</td>\n      <td>0.0</td>\n      <td>...</td>\n      <td>NaN</td>\n      <td>NaN</td>\n      <td>NaN</td>\n      <td>NaN</td>\n      <td>NaN</td>\n      <td>NaN</td>\n      <td>NaN</td>\n      <td>NaN</td>\n      <td>NaN</td>\n      <td>NaN</td>\n    </tr>\n    <tr>\n      <th>B0019</th>\n      <th>2020/P3</th>\n      <td>0.0</td>\n      <td>0.000</td>\n      <td>0.0</td>\n      <td>0.0213</td>\n      <td>0.0</td>\n      <td>0.000</td>\n      <td>0.0</td>\n      <td>0.0</td>\n      <td>0.0</td>\n      <td>0.0</td>\n      <td>...</td>\n      <td>NaN</td>\n      <td>NaN</td>\n      <td>NaN</td>\n      <td>NaN</td>\n      <td>NaN</td>\n      <td>NaN</td>\n      <td>NaN</td>\n      <td>NaN</td>\n      <td>NaN</td>\n      <td>NaN</td>\n    </tr>\n    <tr>\n      <th>B0021</th>\n      <th>2020/P3</th>\n      <td>0.0</td>\n      <td>0.000</td>\n      <td>0.0</td>\n      <td>0.0000</td>\n      <td>0.0</td>\n      <td>0.039</td>\n      <td>0.0</td>\n      <td>0.0</td>\n      <td>0.0</td>\n      <td>0.0</td>\n      <td>...</td>\n      <td>NaN</td>\n      <td>NaN</td>\n      <td>NaN</td>\n      <td>NaN</td>\n      <td>NaN</td>\n      <td>NaN</td>\n      <td>NaN</td>\n      <td>NaN</td>\n      <td>NaN</td>\n      <td>NaN</td>\n    </tr>\n    <tr>\n      <th>B0023</th>\n      <th>2020/P3</th>\n      <td>0.0</td>\n      <td>0.000</td>\n      <td>0.0</td>\n      <td>0.0000</td>\n      <td>0.0</td>\n      <td>0.012</td>\n      <td>0.0</td>\n      <td>0.0</td>\n      <td>0.0</td>\n      <td>0.0</td>\n      <td>...</td>\n      <td>NaN</td>\n      <td>NaN</td>\n      <td>NaN</td>\n      <td>NaN</td>\n      <td>NaN</td>\n      <td>NaN</td>\n      <td>NaN</td>\n      <td>NaN</td>\n      <td>NaN</td>\n      <td>NaN</td>\n    </tr>\n    <tr>\n      <th>B0032</th>\n      <th>2020/P3</th>\n      <td>0.0</td>\n      <td>0.000</td>\n      <td>0.0</td>\n      <td>0.0074</td>\n      <td>0.0</td>\n      <td>0.000</td>\n      <td>0.0</td>\n      <td>0.0</td>\n      <td>0.0</td>\n      <td>0.0</td>\n      <td>...</td>\n      <td>NaN</td>\n      <td>NaN</td>\n      <td>NaN</td>\n      <td>NaN</td>\n      <td>NaN</td>\n      <td>NaN</td>\n      <td>NaN</td>\n      <td>NaN</td>\n      <td>NaN</td>\n      <td>NaN</td>\n    </tr>\n    <tr>\n      <th>B0037</th>\n      <th>2020/P3</th>\n      <td>0.0</td>\n      <td>0.000</td>\n      <td>0.0</td>\n      <td>0.0000</td>\n      <td>0.0</td>\n      <td>0.220</td>\n      <td>0.0</td>\n      <td>0.0</td>\n      <td>0.0</td>\n      <td>0.0</td>\n      <td>...</td>\n      <td>NaN</td>\n      <td>NaN</td>\n      <td>NaN</td>\n      <td>NaN</td>\n      <td>NaN</td>\n      <td>NaN</td>\n      <td>NaN</td>\n      <td>NaN</td>\n      <td>NaN</td>\n      <td>NaN</td>\n    </tr>\n    <tr>\n      <th>B0039</th>\n      <th>2020/P3</th>\n      <td>0.0</td>\n      <td>0.000</td>\n      <td>0.0</td>\n      <td>0.0000</td>\n      <td>0.0</td>\n      <td>0.000</td>\n      <td>0.0</td>\n      <td>0.0</td>\n      <td>0.0</td>\n      <td>0.0</td>\n      <td>...</td>\n      <td>NaN</td>\n      <td>NaN</td>\n      <td>NaN</td>\n      <td>NaN</td>\n      <td>NaN</td>\n      <td>NaN</td>\n      <td>NaN</td>\n      <td>NaN</td>\n      <td>NaN</td>\n      <td>NaN</td>\n    </tr>\n    <tr>\n      <th>B0041</th>\n      <th>2020/P3</th>\n      <td>0.0</td>\n      <td>0.000</td>\n      <td>0.0</td>\n      <td>0.0010</td>\n      <td>0.0</td>\n      <td>0.028</td>\n      <td>0.0</td>\n      <td>0.0</td>\n      <td>0.0</td>\n      <td>0.0</td>\n      <td>...</td>\n      <td>NaN</td>\n      <td>NaN</td>\n      <td>NaN</td>\n      <td>NaN</td>\n      <td>NaN</td>\n      <td>NaN</td>\n      <td>NaN</td>\n      <td>NaN</td>\n      <td>NaN</td>\n      <td>NaN</td>\n    </tr>\n    <tr>\n      <th>B0043</th>\n      <th>2020/P3</th>\n      <td>0.0</td>\n      <td>0.005</td>\n      <td>0.0</td>\n      <td>0.0000</td>\n      <td>0.0</td>\n      <td>0.012</td>\n      <td>0.0</td>\n      <td>0.0</td>\n      <td>0.0</td>\n      <td>0.0</td>\n      <td>...</td>\n      <td>NaN</td>\n      <td>NaN</td>\n      <td>NaN</td>\n      <td>NaN</td>\n      <td>NaN</td>\n      <td>NaN</td>\n      <td>NaN</td>\n      <td>NaN</td>\n      <td>NaN</td>\n      <td>NaN</td>\n    </tr>\n  </tbody>\n</table>\n<p>10 rows × 91 columns</p>\n</div>"
     },
     "metadata": {},
     "execution_count": 147
    }
   ],
   "source": [
    "pesticides_periods_2020 = load_periods_2020(\"Pesticides\")\n",
    "pesticides_periods_2020.head(10)"
   ]
  },
  {
   "cell_type": "code",
   "execution_count": 148,
   "metadata": {},
   "outputs": [
    {
     "output_type": "stream",
     "name": "stdout",
     "text": [
      "Features categories: Index(['dist', 'surface'], dtype='object')\nTo predict categories: Index(['pesticide', 'pesticide_cat', 'pesticide_family', 'heavymetal'], dtype='object')\nTo predict subcategories: Index(['level', 'above_LMR', 'present'], dtype='object')\n"
     ]
    },
    {
     "output_type": "display_data",
     "data": {
      "text/plain": "       pesticide                                                           \\\n           level                                                            \n       Aclonifen Aldrin Ametoctradin Anthraquinone Azoxystrobin Benalaxyl   \nSite                                                                        \nB0017     0.0000   0.00       0.0000        0.0000       0.0000    0.0676   \nB0019     0.0000   0.00       0.0000        0.0000       0.0000    0.0259   \nB0021     0.0000   0.00       0.0000        0.0000       0.0000    0.0757   \nB0023     0.0000   0.00       0.0000        0.0036       0.0000    0.0294   \nB0032     0.0056   0.00       0.0000        0.0000       0.0000    0.0563   \nB0037     0.0000   0.00       0.0000        0.0000       0.0000    0.0000   \nB0039     0.0000   0.00       0.0000        0.0000       0.0000    0.0000   \nB0041     0.0038   0.00       0.0000        0.0000       0.0000    0.0248   \nB0043     0.0000   0.00       0.0000        0.0000       0.0000    0.0000   \nB0045     0.0000   0.00       0.0000        0.0000       0.0000    0.0000   \nB0059     0.0000   0.00       0.0000        0.0000       0.0000    0.0230   \nB0061     0.0000   0.00       0.0000        0.0000       0.0000    0.0388   \nB0067     0.0030   0.00       0.0000        0.0000       0.0000    0.0118   \nB0069     0.0000   0.00       0.0000        0.0048       0.0000    0.0086   \nB0077     0.0000   0.00       0.0000        0.0035       0.0000    0.0423   \nB0093     0.0000   0.00       0.0000        0.0000       0.0000    0.0535   \nB0096     0.0000   0.00       0.0000        0.0000       0.0000    0.0000   \nB0103     0.0000   0.00       0.0000        0.0061       0.0870    0.0560   \nB0105     0.0000   0.00       0.0000        0.0100       0.0000    0.0102   \nB0116     0.0000   0.00       0.0000        0.0000       0.0000    0.0000   \nB0128     0.0000   0.00       0.0000        0.0000       0.0000    0.0000   \nB0140     0.0000   0.00       0.0000        0.0077       0.0000    0.0000   \nB0142     0.0000   0.00       0.0000        0.0038       0.0000    0.0054   \nB0152     0.0000   0.00       0.0000        0.0000       0.0000    0.0468   \nF0001     0.0000   0.00       0.0390        0.0000       0.0000    0.0050   \nF0003     0.0000   0.00       0.0097        0.0000       0.0000    0.0000   \nF0005     0.0000   0.00       0.0000        0.0000       0.0000    0.0221   \nF0007     0.0000   0.00       0.0000        0.0000       0.0000    0.0101   \nF0009     0.0000   0.00       0.0000        0.0000       0.0000    0.0335   \nF0011     0.0000   0.01       0.0000        0.0000       0.0000    0.0000   \nF0013     0.0000   0.00       0.0000        0.0000       0.0000    0.0000   \nF0015     0.0000   0.00       0.0000        0.0000       0.0000    0.0480   \nF0017     0.0000   0.00       0.0000        0.0071       0.0000    0.0000   \nF0019     0.0000   0.00       0.0000        0.0000       0.0000    0.0000   \nF0020     0.0000   0.00       0.0000        0.0000       0.0000    0.0000   \nF0021     0.0000   0.00       0.0000        0.0039       0.0000    0.0000   \nF0023     0.0000   0.00       0.0000        0.0000       0.0000    0.0477   \nF0025     0.0000   0.00       0.0000        0.0000       0.0000    0.0107   \nF0027     0.0000   0.00       0.0000        0.0000       0.0000    0.0000   \nF0029     0.0000   0.00       0.0000        0.0000       0.1166    0.0034   \nF0031     0.0000   0.00       0.0000        0.0000       0.0000    0.0000   \nF0033     0.0000   0.00       0.0000        0.0000       0.0000    0.0000   \nF0035     0.0000   0.00       0.0000        0.0000       0.0000    0.0287   \nF0037     0.0000   0.00       0.0000        0.0000       0.0000    0.0000   \nF0039     0.0000   0.00       0.0000        0.0000       0.0000    0.0000   \nF0041     0.0000   0.00       0.0000        0.0000       0.0000    0.0000   \nF0043     0.0000   0.00       0.0000        0.0000       0.0000    0.0000   \nFE0001    0.0000   0.00       0.0000        0.0000       0.0000    0.0314   \n\n                                                            ... heavymetal  \\\n                                                            ...  above_LMR   \n       Benfluralin Benthiavalicarb.iso Boscalid Bupirimate  ...    Arsenic   \nSite                                                        ...              \nB0017       0.0000               0.000   0.0000     0.0000  ...      False   \nB0019       0.0000               0.000   0.0000     0.0000  ...      False   \nB0021       0.0000               0.000   0.0000     0.0000  ...      False   \nB0023       0.0000               0.000   0.0000     0.0000  ...      False   \nB0032       0.0000               0.000   0.0084     0.0000  ...      False   \nB0037       0.0000               0.000   0.0000     0.0000  ...      False   \nB0039       0.0000               0.005   0.0000     0.0000  ...      False   \nB0041       0.0000               0.000   0.0000     0.0000  ...      False   \nB0043       0.0000               0.000   0.0000     0.0000  ...      False   \nB0045       0.0000               0.000   0.0000     0.0000  ...      False   \nB0059       0.0000               0.000   0.0000     0.0000  ...      False   \nB0061       0.0000               0.000   0.0000     0.0000  ...      False   \nB0067       0.0167               0.000   0.0000     0.0000  ...      False   \nB0069       0.0000               0.000   2.4616     0.5327  ...      False   \nB0077       0.0000               0.000   0.0238     0.0000  ...      False   \nB0093       0.0000               0.000   0.0000     0.0000  ...      False   \nB0096       0.0000               0.000   0.0000     0.0000  ...      False   \nB0103       0.0000               0.000   0.0000     0.0000  ...      False   \nB0105       0.0000               0.000   0.0000     0.0000  ...      False   \nB0116       0.0000               0.000   0.0000     0.0000  ...      False   \nB0128       0.0000               0.000   0.0000     0.0000  ...      False   \nB0140       0.0000               0.000   0.0000     0.0000  ...      False   \nB0142       0.0000               0.000   0.0000     0.0000  ...      False   \nB0152       0.0000               0.000   0.0000     0.0000  ...      False   \nF0001       0.0000               0.000   0.0000     0.0000  ...      False   \nF0003       0.0000               0.000   0.0000     0.0000  ...      False   \nF0005       0.0000               0.000   0.0000     0.0000  ...      False   \nF0007       0.0000               0.000   0.0000     0.0000  ...      False   \nF0009       0.0000               0.000   0.0000     0.0000  ...      False   \nF0011       0.0000               0.000   0.0000     0.0000  ...      False   \nF0013       0.0000               0.000   0.0000     0.0000  ...       True   \nF0015       0.0000               0.000   0.0000     0.0000  ...      False   \nF0017       0.0000               0.000   0.0000     0.0000  ...      False   \nF0019       0.0000               0.000   0.0000     0.0294  ...      False   \nF0020       0.0000               0.000   0.0000     0.0261  ...      False   \nF0021       0.0000               0.000   0.0000     0.0000  ...      False   \nF0023       0.0000               0.000   0.0000     0.0000  ...      False   \nF0025       0.0000               0.000   0.0000     0.0000  ...      False   \nF0027       0.0000               0.000   0.0000     0.0000  ...      False   \nF0029       0.0000               0.000   0.0000     0.0000  ...      False   \nF0031       0.0000               0.000   0.0000     0.0000  ...      False   \nF0033       0.0000               0.000   0.0000     0.0000  ...      False   \nF0035       0.0000               0.000   0.0000     0.0000  ...      False   \nF0037       0.0000               0.000   0.0000     0.0000  ...      False   \nF0039       0.0000               0.000   0.0000     0.0000  ...      False   \nF0041       0.0000               0.000   0.0000     0.0000  ...      False   \nF0043       0.0000               0.000   0.0000     0.0000  ...      False   \nFE0001      0.0000               0.000   0.0204     0.0000  ...      False   \n\n                                                                           \n                                     present                               \n       Cadmium Copper   Lead Mercury Arsenic Cadmium Copper  Lead Mercury  \nSite                                                                       \nB0017    False  False  False   False    True    True   True  True   False  \nB0019    False  False  False   False    True    True   True  True    True  \nB0021     True  False  False   False    True    True   True  True   False  \nB0023     True  False  False   False    True    True   True  True   False  \nB0032    False  False  False   False    True    True   True  True   False  \nB0037    False  False  False   False    True    True   True  True   False  \nB0039    False  False  False   False    True    True   True  True   False  \nB0041    False  False  False   False    True    True   True  True   False  \nB0043    False  False  False   False    True    True   True  True    True  \nB0045    False  False  False   False    True    True   True  True   False  \nB0059    False  False  False   False    True    True   True  True   False  \nB0061    False  False  False   False    True    True   True  True   False  \nB0067     True  False  False   False   False    True   True  True   False  \nB0069    False  False  False   False    True    True   True  True   False  \nB0077    False  False  False   False   False    True   True  True   False  \nB0093    False  False  False   False   False    True   True  True   False  \nB0096    False  False  False   False   False    True   True  True   False  \nB0103    False  False  False   False    True    True   True  True    True  \nB0105    False  False  False   False    True    True   True  True   False  \nB0116    False  False  False   False    True    True   True  True   False  \nB0128    False  False  False   False    True    True   True  True   False  \nB0140    False  False  False   False    True    True   True  True    True  \nB0142    False  False  False   False    True    True   True  True    True  \nB0152    False  False  False   False    True    True   True  True   False  \nF0001    False  False  False   False    True    True   True  True   False  \nF0003    False  False  False   False    True    True   True  True    True  \nF0005    False  False  False   False    True    True   True  True   False  \nF0007    False  False  False   False    True    True   True  True   False  \nF0009    False  False  False   False    True    True   True  True   False  \nF0011    False  False  False   False    True    True   True  True   False  \nF0013    False  False  False   False    True    True   True  True   False  \nF0015    False  False  False   False    True    True   True  True    True  \nF0017    False  False  False   False    True    True   True  True   False  \nF0019    False  False  False   False    True    True   True  True   False  \nF0020    False  False  False   False    True    True   True  True    True  \nF0021    False  False  False   False    True    True   True  True   False  \nF0023    False  False  False   False    True    True   True  True   False  \nF0025    False  False  False   False    True    True   True  True   False  \nF0027    False  False  False   False    True    True   True  True    True  \nF0029    False  False  False   False    True    True   True  True   False  \nF0031    False  False  False   False    True    True   True  True   False  \nF0033    False  False  False   False    True    True   True  True   False  \nF0035    False  False  False   False    True    True   True  True   False  \nF0037    False  False   True   False    True    True   True  True    True  \nF0039    False  False  False   False    True    True   True  True   False  \nF0041    False  False  False   False    True    True   True  True   False  \nF0043    False  False  False   False    True    True   True  True   False  \nFE0001   False  False  False   False    True    True   True  True   False  \n\n[48 rows x 426 columns]",
      "text/html": "<div>\n<style scoped>\n    .dataframe tbody tr th:only-of-type {\n        vertical-align: middle;\n    }\n\n    .dataframe tbody tr th {\n        vertical-align: top;\n    }\n\n    .dataframe thead tr th {\n        text-align: left;\n    }\n\n    .dataframe thead tr:last-of-type th {\n        text-align: right;\n    }\n</style>\n<table border=\"1\" class=\"dataframe\">\n  <thead>\n    <tr>\n      <th></th>\n      <th colspan=\"10\" halign=\"left\">pesticide</th>\n      <th>...</th>\n      <th colspan=\"10\" halign=\"left\">heavymetal</th>\n    </tr>\n    <tr>\n      <th></th>\n      <th colspan=\"10\" halign=\"left\">level</th>\n      <th>...</th>\n      <th colspan=\"5\" halign=\"left\">above_LMR</th>\n      <th colspan=\"5\" halign=\"left\">present</th>\n    </tr>\n    <tr>\n      <th></th>\n      <th>Aclonifen</th>\n      <th>Aldrin</th>\n      <th>Ametoctradin</th>\n      <th>Anthraquinone</th>\n      <th>Azoxystrobin</th>\n      <th>Benalaxyl</th>\n      <th>Benfluralin</th>\n      <th>Benthiavalicarb.iso</th>\n      <th>Boscalid</th>\n      <th>Bupirimate</th>\n      <th>...</th>\n      <th>Arsenic</th>\n      <th>Cadmium</th>\n      <th>Copper</th>\n      <th>Lead</th>\n      <th>Mercury</th>\n      <th>Arsenic</th>\n      <th>Cadmium</th>\n      <th>Copper</th>\n      <th>Lead</th>\n      <th>Mercury</th>\n    </tr>\n    <tr>\n      <th>Site</th>\n      <th></th>\n      <th></th>\n      <th></th>\n      <th></th>\n      <th></th>\n      <th></th>\n      <th></th>\n      <th></th>\n      <th></th>\n      <th></th>\n      <th></th>\n      <th></th>\n      <th></th>\n      <th></th>\n      <th></th>\n      <th></th>\n      <th></th>\n      <th></th>\n      <th></th>\n      <th></th>\n      <th></th>\n    </tr>\n  </thead>\n  <tbody>\n    <tr>\n      <th>B0017</th>\n      <td>0.0000</td>\n      <td>0.00</td>\n      <td>0.0000</td>\n      <td>0.0000</td>\n      <td>0.0000</td>\n      <td>0.0676</td>\n      <td>0.0000</td>\n      <td>0.000</td>\n      <td>0.0000</td>\n      <td>0.0000</td>\n      <td>...</td>\n      <td>False</td>\n      <td>False</td>\n      <td>False</td>\n      <td>False</td>\n      <td>False</td>\n      <td>True</td>\n      <td>True</td>\n      <td>True</td>\n      <td>True</td>\n      <td>False</td>\n    </tr>\n    <tr>\n      <th>B0019</th>\n      <td>0.0000</td>\n      <td>0.00</td>\n      <td>0.0000</td>\n      <td>0.0000</td>\n      <td>0.0000</td>\n      <td>0.0259</td>\n      <td>0.0000</td>\n      <td>0.000</td>\n      <td>0.0000</td>\n      <td>0.0000</td>\n      <td>...</td>\n      <td>False</td>\n      <td>False</td>\n      <td>False</td>\n      <td>False</td>\n      <td>False</td>\n      <td>True</td>\n      <td>True</td>\n      <td>True</td>\n      <td>True</td>\n      <td>True</td>\n    </tr>\n    <tr>\n      <th>B0021</th>\n      <td>0.0000</td>\n      <td>0.00</td>\n      <td>0.0000</td>\n      <td>0.0000</td>\n      <td>0.0000</td>\n      <td>0.0757</td>\n      <td>0.0000</td>\n      <td>0.000</td>\n      <td>0.0000</td>\n      <td>0.0000</td>\n      <td>...</td>\n      <td>False</td>\n      <td>True</td>\n      <td>False</td>\n      <td>False</td>\n      <td>False</td>\n      <td>True</td>\n      <td>True</td>\n      <td>True</td>\n      <td>True</td>\n      <td>False</td>\n    </tr>\n    <tr>\n      <th>B0023</th>\n      <td>0.0000</td>\n      <td>0.00</td>\n      <td>0.0000</td>\n      <td>0.0036</td>\n      <td>0.0000</td>\n      <td>0.0294</td>\n      <td>0.0000</td>\n      <td>0.000</td>\n      <td>0.0000</td>\n      <td>0.0000</td>\n      <td>...</td>\n      <td>False</td>\n      <td>True</td>\n      <td>False</td>\n      <td>False</td>\n      <td>False</td>\n      <td>True</td>\n      <td>True</td>\n      <td>True</td>\n      <td>True</td>\n      <td>False</td>\n    </tr>\n    <tr>\n      <th>B0032</th>\n      <td>0.0056</td>\n      <td>0.00</td>\n      <td>0.0000</td>\n      <td>0.0000</td>\n      <td>0.0000</td>\n      <td>0.0563</td>\n      <td>0.0000</td>\n      <td>0.000</td>\n      <td>0.0084</td>\n      <td>0.0000</td>\n      <td>...</td>\n      <td>False</td>\n      <td>False</td>\n      <td>False</td>\n      <td>False</td>\n      <td>False</td>\n      <td>True</td>\n      <td>True</td>\n      <td>True</td>\n      <td>True</td>\n      <td>False</td>\n    </tr>\n    <tr>\n      <th>B0037</th>\n      <td>0.0000</td>\n      <td>0.00</td>\n      <td>0.0000</td>\n      <td>0.0000</td>\n      <td>0.0000</td>\n      <td>0.0000</td>\n      <td>0.0000</td>\n      <td>0.000</td>\n      <td>0.0000</td>\n      <td>0.0000</td>\n      <td>...</td>\n      <td>False</td>\n      <td>False</td>\n      <td>False</td>\n      <td>False</td>\n      <td>False</td>\n      <td>True</td>\n      <td>True</td>\n      <td>True</td>\n      <td>True</td>\n      <td>False</td>\n    </tr>\n    <tr>\n      <th>B0039</th>\n      <td>0.0000</td>\n      <td>0.00</td>\n      <td>0.0000</td>\n      <td>0.0000</td>\n      <td>0.0000</td>\n      <td>0.0000</td>\n      <td>0.0000</td>\n      <td>0.005</td>\n      <td>0.0000</td>\n      <td>0.0000</td>\n      <td>...</td>\n      <td>False</td>\n      <td>False</td>\n      <td>False</td>\n      <td>False</td>\n      <td>False</td>\n      <td>True</td>\n      <td>True</td>\n      <td>True</td>\n      <td>True</td>\n      <td>False</td>\n    </tr>\n    <tr>\n      <th>B0041</th>\n      <td>0.0038</td>\n      <td>0.00</td>\n      <td>0.0000</td>\n      <td>0.0000</td>\n      <td>0.0000</td>\n      <td>0.0248</td>\n      <td>0.0000</td>\n      <td>0.000</td>\n      <td>0.0000</td>\n      <td>0.0000</td>\n      <td>...</td>\n      <td>False</td>\n      <td>False</td>\n      <td>False</td>\n      <td>False</td>\n      <td>False</td>\n      <td>True</td>\n      <td>True</td>\n      <td>True</td>\n      <td>True</td>\n      <td>False</td>\n    </tr>\n    <tr>\n      <th>B0043</th>\n      <td>0.0000</td>\n      <td>0.00</td>\n      <td>0.0000</td>\n      <td>0.0000</td>\n      <td>0.0000</td>\n      <td>0.0000</td>\n      <td>0.0000</td>\n      <td>0.000</td>\n      <td>0.0000</td>\n      <td>0.0000</td>\n      <td>...</td>\n      <td>False</td>\n      <td>False</td>\n      <td>False</td>\n      <td>False</td>\n      <td>False</td>\n      <td>True</td>\n      <td>True</td>\n      <td>True</td>\n      <td>True</td>\n      <td>True</td>\n    </tr>\n    <tr>\n      <th>B0045</th>\n      <td>0.0000</td>\n      <td>0.00</td>\n      <td>0.0000</td>\n      <td>0.0000</td>\n      <td>0.0000</td>\n      <td>0.0000</td>\n      <td>0.0000</td>\n      <td>0.000</td>\n      <td>0.0000</td>\n      <td>0.0000</td>\n      <td>...</td>\n      <td>False</td>\n      <td>False</td>\n      <td>False</td>\n      <td>False</td>\n      <td>False</td>\n      <td>True</td>\n      <td>True</td>\n      <td>True</td>\n      <td>True</td>\n      <td>False</td>\n    </tr>\n    <tr>\n      <th>B0059</th>\n      <td>0.0000</td>\n      <td>0.00</td>\n      <td>0.0000</td>\n      <td>0.0000</td>\n      <td>0.0000</td>\n      <td>0.0230</td>\n      <td>0.0000</td>\n      <td>0.000</td>\n      <td>0.0000</td>\n      <td>0.0000</td>\n      <td>...</td>\n      <td>False</td>\n      <td>False</td>\n      <td>False</td>\n      <td>False</td>\n      <td>False</td>\n      <td>True</td>\n      <td>True</td>\n      <td>True</td>\n      <td>True</td>\n      <td>False</td>\n    </tr>\n    <tr>\n      <th>B0061</th>\n      <td>0.0000</td>\n      <td>0.00</td>\n      <td>0.0000</td>\n      <td>0.0000</td>\n      <td>0.0000</td>\n      <td>0.0388</td>\n      <td>0.0000</td>\n      <td>0.000</td>\n      <td>0.0000</td>\n      <td>0.0000</td>\n      <td>...</td>\n      <td>False</td>\n      <td>False</td>\n      <td>False</td>\n      <td>False</td>\n      <td>False</td>\n      <td>True</td>\n      <td>True</td>\n      <td>True</td>\n      <td>True</td>\n      <td>False</td>\n    </tr>\n    <tr>\n      <th>B0067</th>\n      <td>0.0030</td>\n      <td>0.00</td>\n      <td>0.0000</td>\n      <td>0.0000</td>\n      <td>0.0000</td>\n      <td>0.0118</td>\n      <td>0.0167</td>\n      <td>0.000</td>\n      <td>0.0000</td>\n      <td>0.0000</td>\n      <td>...</td>\n      <td>False</td>\n      <td>True</td>\n      <td>False</td>\n      <td>False</td>\n      <td>False</td>\n      <td>False</td>\n      <td>True</td>\n      <td>True</td>\n      <td>True</td>\n      <td>False</td>\n    </tr>\n    <tr>\n      <th>B0069</th>\n      <td>0.0000</td>\n      <td>0.00</td>\n      <td>0.0000</td>\n      <td>0.0048</td>\n      <td>0.0000</td>\n      <td>0.0086</td>\n      <td>0.0000</td>\n      <td>0.000</td>\n      <td>2.4616</td>\n      <td>0.5327</td>\n      <td>...</td>\n      <td>False</td>\n      <td>False</td>\n      <td>False</td>\n      <td>False</td>\n      <td>False</td>\n      <td>True</td>\n      <td>True</td>\n      <td>True</td>\n      <td>True</td>\n      <td>False</td>\n    </tr>\n    <tr>\n      <th>B0077</th>\n      <td>0.0000</td>\n      <td>0.00</td>\n      <td>0.0000</td>\n      <td>0.0035</td>\n      <td>0.0000</td>\n      <td>0.0423</td>\n      <td>0.0000</td>\n      <td>0.000</td>\n      <td>0.0238</td>\n      <td>0.0000</td>\n      <td>...</td>\n      <td>False</td>\n      <td>False</td>\n      <td>False</td>\n      <td>False</td>\n      <td>False</td>\n      <td>False</td>\n      <td>True</td>\n      <td>True</td>\n      <td>True</td>\n      <td>False</td>\n    </tr>\n    <tr>\n      <th>B0093</th>\n      <td>0.0000</td>\n      <td>0.00</td>\n      <td>0.0000</td>\n      <td>0.0000</td>\n      <td>0.0000</td>\n      <td>0.0535</td>\n      <td>0.0000</td>\n      <td>0.000</td>\n      <td>0.0000</td>\n      <td>0.0000</td>\n      <td>...</td>\n      <td>False</td>\n      <td>False</td>\n      <td>False</td>\n      <td>False</td>\n      <td>False</td>\n      <td>False</td>\n      <td>True</td>\n      <td>True</td>\n      <td>True</td>\n      <td>False</td>\n    </tr>\n    <tr>\n      <th>B0096</th>\n      <td>0.0000</td>\n      <td>0.00</td>\n      <td>0.0000</td>\n      <td>0.0000</td>\n      <td>0.0000</td>\n      <td>0.0000</td>\n      <td>0.0000</td>\n      <td>0.000</td>\n      <td>0.0000</td>\n      <td>0.0000</td>\n      <td>...</td>\n      <td>False</td>\n      <td>False</td>\n      <td>False</td>\n      <td>False</td>\n      <td>False</td>\n      <td>False</td>\n      <td>True</td>\n      <td>True</td>\n      <td>True</td>\n      <td>False</td>\n    </tr>\n    <tr>\n      <th>B0103</th>\n      <td>0.0000</td>\n      <td>0.00</td>\n      <td>0.0000</td>\n      <td>0.0061</td>\n      <td>0.0870</td>\n      <td>0.0560</td>\n      <td>0.0000</td>\n      <td>0.000</td>\n      <td>0.0000</td>\n      <td>0.0000</td>\n      <td>...</td>\n      <td>False</td>\n      <td>False</td>\n      <td>False</td>\n      <td>False</td>\n      <td>False</td>\n      <td>True</td>\n      <td>True</td>\n      <td>True</td>\n      <td>True</td>\n      <td>True</td>\n    </tr>\n    <tr>\n      <th>B0105</th>\n      <td>0.0000</td>\n      <td>0.00</td>\n      <td>0.0000</td>\n      <td>0.0100</td>\n      <td>0.0000</td>\n      <td>0.0102</td>\n      <td>0.0000</td>\n      <td>0.000</td>\n      <td>0.0000</td>\n      <td>0.0000</td>\n      <td>...</td>\n      <td>False</td>\n      <td>False</td>\n      <td>False</td>\n      <td>False</td>\n      <td>False</td>\n      <td>True</td>\n      <td>True</td>\n      <td>True</td>\n      <td>True</td>\n      <td>False</td>\n    </tr>\n    <tr>\n      <th>B0116</th>\n      <td>0.0000</td>\n      <td>0.00</td>\n      <td>0.0000</td>\n      <td>0.0000</td>\n      <td>0.0000</td>\n      <td>0.0000</td>\n      <td>0.0000</td>\n      <td>0.000</td>\n      <td>0.0000</td>\n      <td>0.0000</td>\n      <td>...</td>\n      <td>False</td>\n      <td>False</td>\n      <td>False</td>\n      <td>False</td>\n      <td>False</td>\n      <td>True</td>\n      <td>True</td>\n      <td>True</td>\n      <td>True</td>\n      <td>False</td>\n    </tr>\n    <tr>\n      <th>B0128</th>\n      <td>0.0000</td>\n      <td>0.00</td>\n      <td>0.0000</td>\n      <td>0.0000</td>\n      <td>0.0000</td>\n      <td>0.0000</td>\n      <td>0.0000</td>\n      <td>0.000</td>\n      <td>0.0000</td>\n      <td>0.0000</td>\n      <td>...</td>\n      <td>False</td>\n      <td>False</td>\n      <td>False</td>\n      <td>False</td>\n      <td>False</td>\n      <td>True</td>\n      <td>True</td>\n      <td>True</td>\n      <td>True</td>\n      <td>False</td>\n    </tr>\n    <tr>\n      <th>B0140</th>\n      <td>0.0000</td>\n      <td>0.00</td>\n      <td>0.0000</td>\n      <td>0.0077</td>\n      <td>0.0000</td>\n      <td>0.0000</td>\n      <td>0.0000</td>\n      <td>0.000</td>\n      <td>0.0000</td>\n      <td>0.0000</td>\n      <td>...</td>\n      <td>False</td>\n      <td>False</td>\n      <td>False</td>\n      <td>False</td>\n      <td>False</td>\n      <td>True</td>\n      <td>True</td>\n      <td>True</td>\n      <td>True</td>\n      <td>True</td>\n    </tr>\n    <tr>\n      <th>B0142</th>\n      <td>0.0000</td>\n      <td>0.00</td>\n      <td>0.0000</td>\n      <td>0.0038</td>\n      <td>0.0000</td>\n      <td>0.0054</td>\n      <td>0.0000</td>\n      <td>0.000</td>\n      <td>0.0000</td>\n      <td>0.0000</td>\n      <td>...</td>\n      <td>False</td>\n      <td>False</td>\n      <td>False</td>\n      <td>False</td>\n      <td>False</td>\n      <td>True</td>\n      <td>True</td>\n      <td>True</td>\n      <td>True</td>\n      <td>True</td>\n    </tr>\n    <tr>\n      <th>B0152</th>\n      <td>0.0000</td>\n      <td>0.00</td>\n      <td>0.0000</td>\n      <td>0.0000</td>\n      <td>0.0000</td>\n      <td>0.0468</td>\n      <td>0.0000</td>\n      <td>0.000</td>\n      <td>0.0000</td>\n      <td>0.0000</td>\n      <td>...</td>\n      <td>False</td>\n      <td>False</td>\n      <td>False</td>\n      <td>False</td>\n      <td>False</td>\n      <td>True</td>\n      <td>True</td>\n      <td>True</td>\n      <td>True</td>\n      <td>False</td>\n    </tr>\n    <tr>\n      <th>F0001</th>\n      <td>0.0000</td>\n      <td>0.00</td>\n      <td>0.0390</td>\n      <td>0.0000</td>\n      <td>0.0000</td>\n      <td>0.0050</td>\n      <td>0.0000</td>\n      <td>0.000</td>\n      <td>0.0000</td>\n      <td>0.0000</td>\n      <td>...</td>\n      <td>False</td>\n      <td>False</td>\n      <td>False</td>\n      <td>False</td>\n      <td>False</td>\n      <td>True</td>\n      <td>True</td>\n      <td>True</td>\n      <td>True</td>\n      <td>False</td>\n    </tr>\n    <tr>\n      <th>F0003</th>\n      <td>0.0000</td>\n      <td>0.00</td>\n      <td>0.0097</td>\n      <td>0.0000</td>\n      <td>0.0000</td>\n      <td>0.0000</td>\n      <td>0.0000</td>\n      <td>0.000</td>\n      <td>0.0000</td>\n      <td>0.0000</td>\n      <td>...</td>\n      <td>False</td>\n      <td>False</td>\n      <td>False</td>\n      <td>False</td>\n      <td>False</td>\n      <td>True</td>\n      <td>True</td>\n      <td>True</td>\n      <td>True</td>\n      <td>True</td>\n    </tr>\n    <tr>\n      <th>F0005</th>\n      <td>0.0000</td>\n      <td>0.00</td>\n      <td>0.0000</td>\n      <td>0.0000</td>\n      <td>0.0000</td>\n      <td>0.0221</td>\n      <td>0.0000</td>\n      <td>0.000</td>\n      <td>0.0000</td>\n      <td>0.0000</td>\n      <td>...</td>\n      <td>False</td>\n      <td>False</td>\n      <td>False</td>\n      <td>False</td>\n      <td>False</td>\n      <td>True</td>\n      <td>True</td>\n      <td>True</td>\n      <td>True</td>\n      <td>False</td>\n    </tr>\n    <tr>\n      <th>F0007</th>\n      <td>0.0000</td>\n      <td>0.00</td>\n      <td>0.0000</td>\n      <td>0.0000</td>\n      <td>0.0000</td>\n      <td>0.0101</td>\n      <td>0.0000</td>\n      <td>0.000</td>\n      <td>0.0000</td>\n      <td>0.0000</td>\n      <td>...</td>\n      <td>False</td>\n      <td>False</td>\n      <td>False</td>\n      <td>False</td>\n      <td>False</td>\n      <td>True</td>\n      <td>True</td>\n      <td>True</td>\n      <td>True</td>\n      <td>False</td>\n    </tr>\n    <tr>\n      <th>F0009</th>\n      <td>0.0000</td>\n      <td>0.00</td>\n      <td>0.0000</td>\n      <td>0.0000</td>\n      <td>0.0000</td>\n      <td>0.0335</td>\n      <td>0.0000</td>\n      <td>0.000</td>\n      <td>0.0000</td>\n      <td>0.0000</td>\n      <td>...</td>\n      <td>False</td>\n      <td>False</td>\n      <td>False</td>\n      <td>False</td>\n      <td>False</td>\n      <td>True</td>\n      <td>True</td>\n      <td>True</td>\n      <td>True</td>\n      <td>False</td>\n    </tr>\n    <tr>\n      <th>F0011</th>\n      <td>0.0000</td>\n      <td>0.01</td>\n      <td>0.0000</td>\n      <td>0.0000</td>\n      <td>0.0000</td>\n      <td>0.0000</td>\n      <td>0.0000</td>\n      <td>0.000</td>\n      <td>0.0000</td>\n      <td>0.0000</td>\n      <td>...</td>\n      <td>False</td>\n      <td>False</td>\n      <td>False</td>\n      <td>False</td>\n      <td>False</td>\n      <td>True</td>\n      <td>True</td>\n      <td>True</td>\n      <td>True</td>\n      <td>False</td>\n    </tr>\n    <tr>\n      <th>F0013</th>\n      <td>0.0000</td>\n      <td>0.00</td>\n      <td>0.0000</td>\n      <td>0.0000</td>\n      <td>0.0000</td>\n      <td>0.0000</td>\n      <td>0.0000</td>\n      <td>0.000</td>\n      <td>0.0000</td>\n      <td>0.0000</td>\n      <td>...</td>\n      <td>True</td>\n      <td>False</td>\n      <td>False</td>\n      <td>False</td>\n      <td>False</td>\n      <td>True</td>\n      <td>True</td>\n      <td>True</td>\n      <td>True</td>\n      <td>False</td>\n    </tr>\n    <tr>\n      <th>F0015</th>\n      <td>0.0000</td>\n      <td>0.00</td>\n      <td>0.0000</td>\n      <td>0.0000</td>\n      <td>0.0000</td>\n      <td>0.0480</td>\n      <td>0.0000</td>\n      <td>0.000</td>\n      <td>0.0000</td>\n      <td>0.0000</td>\n      <td>...</td>\n      <td>False</td>\n      <td>False</td>\n      <td>False</td>\n      <td>False</td>\n      <td>False</td>\n      <td>True</td>\n      <td>True</td>\n      <td>True</td>\n      <td>True</td>\n      <td>True</td>\n    </tr>\n    <tr>\n      <th>F0017</th>\n      <td>0.0000</td>\n      <td>0.00</td>\n      <td>0.0000</td>\n      <td>0.0071</td>\n      <td>0.0000</td>\n      <td>0.0000</td>\n      <td>0.0000</td>\n      <td>0.000</td>\n      <td>0.0000</td>\n      <td>0.0000</td>\n      <td>...</td>\n      <td>False</td>\n      <td>False</td>\n      <td>False</td>\n      <td>False</td>\n      <td>False</td>\n      <td>True</td>\n      <td>True</td>\n      <td>True</td>\n      <td>True</td>\n      <td>False</td>\n    </tr>\n    <tr>\n      <th>F0019</th>\n      <td>0.0000</td>\n      <td>0.00</td>\n      <td>0.0000</td>\n      <td>0.0000</td>\n      <td>0.0000</td>\n      <td>0.0000</td>\n      <td>0.0000</td>\n      <td>0.000</td>\n      <td>0.0000</td>\n      <td>0.0294</td>\n      <td>...</td>\n      <td>False</td>\n      <td>False</td>\n      <td>False</td>\n      <td>False</td>\n      <td>False</td>\n      <td>True</td>\n      <td>True</td>\n      <td>True</td>\n      <td>True</td>\n      <td>False</td>\n    </tr>\n    <tr>\n      <th>F0020</th>\n      <td>0.0000</td>\n      <td>0.00</td>\n      <td>0.0000</td>\n      <td>0.0000</td>\n      <td>0.0000</td>\n      <td>0.0000</td>\n      <td>0.0000</td>\n      <td>0.000</td>\n      <td>0.0000</td>\n      <td>0.0261</td>\n      <td>...</td>\n      <td>False</td>\n      <td>False</td>\n      <td>False</td>\n      <td>False</td>\n      <td>False</td>\n      <td>True</td>\n      <td>True</td>\n      <td>True</td>\n      <td>True</td>\n      <td>True</td>\n    </tr>\n    <tr>\n      <th>F0021</th>\n      <td>0.0000</td>\n      <td>0.00</td>\n      <td>0.0000</td>\n      <td>0.0039</td>\n      <td>0.0000</td>\n      <td>0.0000</td>\n      <td>0.0000</td>\n      <td>0.000</td>\n      <td>0.0000</td>\n      <td>0.0000</td>\n      <td>...</td>\n      <td>False</td>\n      <td>False</td>\n      <td>False</td>\n      <td>False</td>\n      <td>False</td>\n      <td>True</td>\n      <td>True</td>\n      <td>True</td>\n      <td>True</td>\n      <td>False</td>\n    </tr>\n    <tr>\n      <th>F0023</th>\n      <td>0.0000</td>\n      <td>0.00</td>\n      <td>0.0000</td>\n      <td>0.0000</td>\n      <td>0.0000</td>\n      <td>0.0477</td>\n      <td>0.0000</td>\n      <td>0.000</td>\n      <td>0.0000</td>\n      <td>0.0000</td>\n      <td>...</td>\n      <td>False</td>\n      <td>False</td>\n      <td>False</td>\n      <td>False</td>\n      <td>False</td>\n      <td>True</td>\n      <td>True</td>\n      <td>True</td>\n      <td>True</td>\n      <td>False</td>\n    </tr>\n    <tr>\n      <th>F0025</th>\n      <td>0.0000</td>\n      <td>0.00</td>\n      <td>0.0000</td>\n      <td>0.0000</td>\n      <td>0.0000</td>\n      <td>0.0107</td>\n      <td>0.0000</td>\n      <td>0.000</td>\n      <td>0.0000</td>\n      <td>0.0000</td>\n      <td>...</td>\n      <td>False</td>\n      <td>False</td>\n      <td>False</td>\n      <td>False</td>\n      <td>False</td>\n      <td>True</td>\n      <td>True</td>\n      <td>True</td>\n      <td>True</td>\n      <td>False</td>\n    </tr>\n    <tr>\n      <th>F0027</th>\n      <td>0.0000</td>\n      <td>0.00</td>\n      <td>0.0000</td>\n      <td>0.0000</td>\n      <td>0.0000</td>\n      <td>0.0000</td>\n      <td>0.0000</td>\n      <td>0.000</td>\n      <td>0.0000</td>\n      <td>0.0000</td>\n      <td>...</td>\n      <td>False</td>\n      <td>False</td>\n      <td>False</td>\n      <td>False</td>\n      <td>False</td>\n      <td>True</td>\n      <td>True</td>\n      <td>True</td>\n      <td>True</td>\n      <td>True</td>\n    </tr>\n    <tr>\n      <th>F0029</th>\n      <td>0.0000</td>\n      <td>0.00</td>\n      <td>0.0000</td>\n      <td>0.0000</td>\n      <td>0.1166</td>\n      <td>0.0034</td>\n      <td>0.0000</td>\n      <td>0.000</td>\n      <td>0.0000</td>\n      <td>0.0000</td>\n      <td>...</td>\n      <td>False</td>\n      <td>False</td>\n      <td>False</td>\n      <td>False</td>\n      <td>False</td>\n      <td>True</td>\n      <td>True</td>\n      <td>True</td>\n      <td>True</td>\n      <td>False</td>\n    </tr>\n    <tr>\n      <th>F0031</th>\n      <td>0.0000</td>\n      <td>0.00</td>\n      <td>0.0000</td>\n      <td>0.0000</td>\n      <td>0.0000</td>\n      <td>0.0000</td>\n      <td>0.0000</td>\n      <td>0.000</td>\n      <td>0.0000</td>\n      <td>0.0000</td>\n      <td>...</td>\n      <td>False</td>\n      <td>False</td>\n      <td>False</td>\n      <td>False</td>\n      <td>False</td>\n      <td>True</td>\n      <td>True</td>\n      <td>True</td>\n      <td>True</td>\n      <td>False</td>\n    </tr>\n    <tr>\n      <th>F0033</th>\n      <td>0.0000</td>\n      <td>0.00</td>\n      <td>0.0000</td>\n      <td>0.0000</td>\n      <td>0.0000</td>\n      <td>0.0000</td>\n      <td>0.0000</td>\n      <td>0.000</td>\n      <td>0.0000</td>\n      <td>0.0000</td>\n      <td>...</td>\n      <td>False</td>\n      <td>False</td>\n      <td>False</td>\n      <td>False</td>\n      <td>False</td>\n      <td>True</td>\n      <td>True</td>\n      <td>True</td>\n      <td>True</td>\n      <td>False</td>\n    </tr>\n    <tr>\n      <th>F0035</th>\n      <td>0.0000</td>\n      <td>0.00</td>\n      <td>0.0000</td>\n      <td>0.0000</td>\n      <td>0.0000</td>\n      <td>0.0287</td>\n      <td>0.0000</td>\n      <td>0.000</td>\n      <td>0.0000</td>\n      <td>0.0000</td>\n      <td>...</td>\n      <td>False</td>\n      <td>False</td>\n      <td>False</td>\n      <td>False</td>\n      <td>False</td>\n      <td>True</td>\n      <td>True</td>\n      <td>True</td>\n      <td>True</td>\n      <td>False</td>\n    </tr>\n    <tr>\n      <th>F0037</th>\n      <td>0.0000</td>\n      <td>0.00</td>\n      <td>0.0000</td>\n      <td>0.0000</td>\n      <td>0.0000</td>\n      <td>0.0000</td>\n      <td>0.0000</td>\n      <td>0.000</td>\n      <td>0.0000</td>\n      <td>0.0000</td>\n      <td>...</td>\n      <td>False</td>\n      <td>False</td>\n      <td>False</td>\n      <td>True</td>\n      <td>False</td>\n      <td>True</td>\n      <td>True</td>\n      <td>True</td>\n      <td>True</td>\n      <td>True</td>\n    </tr>\n    <tr>\n      <th>F0039</th>\n      <td>0.0000</td>\n      <td>0.00</td>\n      <td>0.0000</td>\n      <td>0.0000</td>\n      <td>0.0000</td>\n      <td>0.0000</td>\n      <td>0.0000</td>\n      <td>0.000</td>\n      <td>0.0000</td>\n      <td>0.0000</td>\n      <td>...</td>\n      <td>False</td>\n      <td>False</td>\n      <td>False</td>\n      <td>False</td>\n      <td>False</td>\n      <td>True</td>\n      <td>True</td>\n      <td>True</td>\n      <td>True</td>\n      <td>False</td>\n    </tr>\n    <tr>\n      <th>F0041</th>\n      <td>0.0000</td>\n      <td>0.00</td>\n      <td>0.0000</td>\n      <td>0.0000</td>\n      <td>0.0000</td>\n      <td>0.0000</td>\n      <td>0.0000</td>\n      <td>0.000</td>\n      <td>0.0000</td>\n      <td>0.0000</td>\n      <td>...</td>\n      <td>False</td>\n      <td>False</td>\n      <td>False</td>\n      <td>False</td>\n      <td>False</td>\n      <td>True</td>\n      <td>True</td>\n      <td>True</td>\n      <td>True</td>\n      <td>False</td>\n    </tr>\n    <tr>\n      <th>F0043</th>\n      <td>0.0000</td>\n      <td>0.00</td>\n      <td>0.0000</td>\n      <td>0.0000</td>\n      <td>0.0000</td>\n      <td>0.0000</td>\n      <td>0.0000</td>\n      <td>0.000</td>\n      <td>0.0000</td>\n      <td>0.0000</td>\n      <td>...</td>\n      <td>False</td>\n      <td>False</td>\n      <td>False</td>\n      <td>False</td>\n      <td>False</td>\n      <td>True</td>\n      <td>True</td>\n      <td>True</td>\n      <td>True</td>\n      <td>False</td>\n    </tr>\n    <tr>\n      <th>FE0001</th>\n      <td>0.0000</td>\n      <td>0.00</td>\n      <td>0.0000</td>\n      <td>0.0000</td>\n      <td>0.0000</td>\n      <td>0.0314</td>\n      <td>0.0000</td>\n      <td>0.000</td>\n      <td>0.0204</td>\n      <td>0.0000</td>\n      <td>...</td>\n      <td>False</td>\n      <td>False</td>\n      <td>False</td>\n      <td>False</td>\n      <td>False</td>\n      <td>True</td>\n      <td>True</td>\n      <td>True</td>\n      <td>True</td>\n      <td>False</td>\n    </tr>\n  </tbody>\n</table>\n<p>48 rows × 426 columns</p>\n</div>"
     },
     "metadata": {}
    },
    {
     "output_type": "display_data",
     "data": {
      "text/plain": "               dist                                                  \\\nCLC             111         112          121          122  123  124   \nSite                                                                  \nB0012   1020.033273  564.609800   117.220148     0.000000  0.0  0.0   \nB0017      0.000000  230.733942  1457.209438     0.000000  0.0  0.0   \nB0019      0.000000    0.000000     0.000000     0.000000  0.0  0.0   \nB0021      0.000000    0.000000     0.000000     0.000000  0.0  0.0   \nB0023      0.000000    0.000000     0.000000     0.000000  0.0  0.0   \n...             ...         ...          ...          ...  ...  ...   \nF0069      0.000000  737.549842     0.000000     0.000000  0.0  0.0   \nF0071      0.000000    0.000000   990.596850     0.000000  0.0  0.0   \nF0073      0.000000    0.000000     0.000000     0.000000  0.0  0.0   \nF0075      0.000000  751.533157   344.517523  1444.909224  0.0  0.0   \nFE0001     0.000000    0.000000     0.000000     0.000000  0.0  0.0   \n\n                                           ...       surface                \\\nCLC            131  133  141          142  ...           312           313   \nSite                                       ...                               \nB0012      0.00000  0.0  0.0     0.000000  ...  0.000000e+00  0.000000e+00   \nB0017      0.00000  0.0  0.0     0.000000  ...  1.097484e+06  1.871540e+06   \nB0019      0.00000  0.0  0.0     0.000000  ...  5.146666e+06  1.330174e+06   \nB0021      0.00000  0.0  0.0     0.000000  ...  1.572156e+06  3.620488e+06   \nB0023      0.00000  0.0  0.0  1223.368654  ...  2.538647e+06  6.865176e+04   \n...            ...  ...  ...          ...  ...           ...           ...   \nF0069      0.00000  0.0  0.0  1094.991277  ...  0.000000e+00  0.000000e+00   \nF0071   1066.57633  0.0  0.0     0.000000  ...  4.684407e+05  0.000000e+00   \nF0073      0.00000  0.0  0.0     0.000000  ...  4.420773e+06  6.970899e+03   \nF0075      0.00000  0.0  0.0     0.000000  ...  0.000000e+00  0.000000e+00   \nFE0001     0.00000  0.0  0.0     0.000000  ...  0.000000e+00  0.000000e+00   \n\n                                                                  \\\nCLC     322           324  331           412  423            511   \nSite                                                               \nB0012   0.0  0.000000e+00  0.0  0.000000e+00  0.0  486328.326111   \nB0017   0.0  0.000000e+00  0.0  0.000000e+00  0.0       0.000000   \nB0019   0.0  0.000000e+00  0.0  3.786370e+05  0.0       0.000000   \nB0021   0.0  0.000000e+00  0.0  9.421463e+05  0.0       0.000000   \nB0023   0.0  6.979889e+05  0.0  1.809062e+06  0.0       0.000000   \n...     ...           ...  ...           ...  ...            ...   \nF0069   0.0  0.000000e+00  0.0  0.000000e+00  0.0       0.000000   \nF0071   0.0  7.933020e+05  0.0  0.000000e+00  0.0       0.000000   \nF0073   0.0  1.621549e+06  0.0  0.000000e+00  0.0       0.000000   \nF0075   0.0  0.000000e+00  0.0  0.000000e+00  0.0       0.000000   \nFE0001  0.0  0.000000e+00  0.0  0.000000e+00  0.0       0.000000   \n\n                            \nCLC               512  523  \nSite                        \nB0012        0.000000  0.0  \nB0017        0.000000  0.0  \nB0019        0.000000  0.0  \nB0021        0.000000  0.0  \nB0023        0.000000  0.0  \n...               ...  ...  \nF0069        0.000000  0.0  \nF0071   643979.018311  0.0  \nF0073        0.000000  0.0  \nF0075        0.000000  0.0  \nFE0001       0.000000  0.0  \n\n[63 rows x 52 columns]",
      "text/html": "<div>\n<style scoped>\n    .dataframe tbody tr th:only-of-type {\n        vertical-align: middle;\n    }\n\n    .dataframe tbody tr th {\n        vertical-align: top;\n    }\n\n    .dataframe thead tr th {\n        text-align: left;\n    }\n\n    .dataframe thead tr:last-of-type th {\n        text-align: right;\n    }\n</style>\n<table border=\"1\" class=\"dataframe\">\n  <thead>\n    <tr>\n      <th></th>\n      <th colspan=\"10\" halign=\"left\">dist</th>\n      <th>...</th>\n      <th colspan=\"10\" halign=\"left\">surface</th>\n    </tr>\n    <tr>\n      <th>CLC</th>\n      <th>111</th>\n      <th>112</th>\n      <th>121</th>\n      <th>122</th>\n      <th>123</th>\n      <th>124</th>\n      <th>131</th>\n      <th>133</th>\n      <th>141</th>\n      <th>142</th>\n      <th>...</th>\n      <th>312</th>\n      <th>313</th>\n      <th>322</th>\n      <th>324</th>\n      <th>331</th>\n      <th>412</th>\n      <th>423</th>\n      <th>511</th>\n      <th>512</th>\n      <th>523</th>\n    </tr>\n    <tr>\n      <th>Site</th>\n      <th></th>\n      <th></th>\n      <th></th>\n      <th></th>\n      <th></th>\n      <th></th>\n      <th></th>\n      <th></th>\n      <th></th>\n      <th></th>\n      <th></th>\n      <th></th>\n      <th></th>\n      <th></th>\n      <th></th>\n      <th></th>\n      <th></th>\n      <th></th>\n      <th></th>\n      <th></th>\n      <th></th>\n    </tr>\n  </thead>\n  <tbody>\n    <tr>\n      <th>B0012</th>\n      <td>1020.033273</td>\n      <td>564.609800</td>\n      <td>117.220148</td>\n      <td>0.000000</td>\n      <td>0.0</td>\n      <td>0.0</td>\n      <td>0.00000</td>\n      <td>0.0</td>\n      <td>0.0</td>\n      <td>0.000000</td>\n      <td>...</td>\n      <td>0.000000e+00</td>\n      <td>0.000000e+00</td>\n      <td>0.0</td>\n      <td>0.000000e+00</td>\n      <td>0.0</td>\n      <td>0.000000e+00</td>\n      <td>0.0</td>\n      <td>486328.326111</td>\n      <td>0.000000</td>\n      <td>0.0</td>\n    </tr>\n    <tr>\n      <th>B0017</th>\n      <td>0.000000</td>\n      <td>230.733942</td>\n      <td>1457.209438</td>\n      <td>0.000000</td>\n      <td>0.0</td>\n      <td>0.0</td>\n      <td>0.00000</td>\n      <td>0.0</td>\n      <td>0.0</td>\n      <td>0.000000</td>\n      <td>...</td>\n      <td>1.097484e+06</td>\n      <td>1.871540e+06</td>\n      <td>0.0</td>\n      <td>0.000000e+00</td>\n      <td>0.0</td>\n      <td>0.000000e+00</td>\n      <td>0.0</td>\n      <td>0.000000</td>\n      <td>0.000000</td>\n      <td>0.0</td>\n    </tr>\n    <tr>\n      <th>B0019</th>\n      <td>0.000000</td>\n      <td>0.000000</td>\n      <td>0.000000</td>\n      <td>0.000000</td>\n      <td>0.0</td>\n      <td>0.0</td>\n      <td>0.00000</td>\n      <td>0.0</td>\n      <td>0.0</td>\n      <td>0.000000</td>\n      <td>...</td>\n      <td>5.146666e+06</td>\n      <td>1.330174e+06</td>\n      <td>0.0</td>\n      <td>0.000000e+00</td>\n      <td>0.0</td>\n      <td>3.786370e+05</td>\n      <td>0.0</td>\n      <td>0.000000</td>\n      <td>0.000000</td>\n      <td>0.0</td>\n    </tr>\n    <tr>\n      <th>B0021</th>\n      <td>0.000000</td>\n      <td>0.000000</td>\n      <td>0.000000</td>\n      <td>0.000000</td>\n      <td>0.0</td>\n      <td>0.0</td>\n      <td>0.00000</td>\n      <td>0.0</td>\n      <td>0.0</td>\n      <td>0.000000</td>\n      <td>...</td>\n      <td>1.572156e+06</td>\n      <td>3.620488e+06</td>\n      <td>0.0</td>\n      <td>0.000000e+00</td>\n      <td>0.0</td>\n      <td>9.421463e+05</td>\n      <td>0.0</td>\n      <td>0.000000</td>\n      <td>0.000000</td>\n      <td>0.0</td>\n    </tr>\n    <tr>\n      <th>B0023</th>\n      <td>0.000000</td>\n      <td>0.000000</td>\n      <td>0.000000</td>\n      <td>0.000000</td>\n      <td>0.0</td>\n      <td>0.0</td>\n      <td>0.00000</td>\n      <td>0.0</td>\n      <td>0.0</td>\n      <td>1223.368654</td>\n      <td>...</td>\n      <td>2.538647e+06</td>\n      <td>6.865176e+04</td>\n      <td>0.0</td>\n      <td>6.979889e+05</td>\n      <td>0.0</td>\n      <td>1.809062e+06</td>\n      <td>0.0</td>\n      <td>0.000000</td>\n      <td>0.000000</td>\n      <td>0.0</td>\n    </tr>\n    <tr>\n      <th>...</th>\n      <td>...</td>\n      <td>...</td>\n      <td>...</td>\n      <td>...</td>\n      <td>...</td>\n      <td>...</td>\n      <td>...</td>\n      <td>...</td>\n      <td>...</td>\n      <td>...</td>\n      <td>...</td>\n      <td>...</td>\n      <td>...</td>\n      <td>...</td>\n      <td>...</td>\n      <td>...</td>\n      <td>...</td>\n      <td>...</td>\n      <td>...</td>\n      <td>...</td>\n      <td>...</td>\n    </tr>\n    <tr>\n      <th>F0069</th>\n      <td>0.000000</td>\n      <td>737.549842</td>\n      <td>0.000000</td>\n      <td>0.000000</td>\n      <td>0.0</td>\n      <td>0.0</td>\n      <td>0.00000</td>\n      <td>0.0</td>\n      <td>0.0</td>\n      <td>1094.991277</td>\n      <td>...</td>\n      <td>0.000000e+00</td>\n      <td>0.000000e+00</td>\n      <td>0.0</td>\n      <td>0.000000e+00</td>\n      <td>0.0</td>\n      <td>0.000000e+00</td>\n      <td>0.0</td>\n      <td>0.000000</td>\n      <td>0.000000</td>\n      <td>0.0</td>\n    </tr>\n    <tr>\n      <th>F0071</th>\n      <td>0.000000</td>\n      <td>0.000000</td>\n      <td>990.596850</td>\n      <td>0.000000</td>\n      <td>0.0</td>\n      <td>0.0</td>\n      <td>1066.57633</td>\n      <td>0.0</td>\n      <td>0.0</td>\n      <td>0.000000</td>\n      <td>...</td>\n      <td>4.684407e+05</td>\n      <td>0.000000e+00</td>\n      <td>0.0</td>\n      <td>7.933020e+05</td>\n      <td>0.0</td>\n      <td>0.000000e+00</td>\n      <td>0.0</td>\n      <td>0.000000</td>\n      <td>643979.018311</td>\n      <td>0.0</td>\n    </tr>\n    <tr>\n      <th>F0073</th>\n      <td>0.000000</td>\n      <td>0.000000</td>\n      <td>0.000000</td>\n      <td>0.000000</td>\n      <td>0.0</td>\n      <td>0.0</td>\n      <td>0.00000</td>\n      <td>0.0</td>\n      <td>0.0</td>\n      <td>0.000000</td>\n      <td>...</td>\n      <td>4.420773e+06</td>\n      <td>6.970899e+03</td>\n      <td>0.0</td>\n      <td>1.621549e+06</td>\n      <td>0.0</td>\n      <td>0.000000e+00</td>\n      <td>0.0</td>\n      <td>0.000000</td>\n      <td>0.000000</td>\n      <td>0.0</td>\n    </tr>\n    <tr>\n      <th>F0075</th>\n      <td>0.000000</td>\n      <td>751.533157</td>\n      <td>344.517523</td>\n      <td>1444.909224</td>\n      <td>0.0</td>\n      <td>0.0</td>\n      <td>0.00000</td>\n      <td>0.0</td>\n      <td>0.0</td>\n      <td>0.000000</td>\n      <td>...</td>\n      <td>0.000000e+00</td>\n      <td>0.000000e+00</td>\n      <td>0.0</td>\n      <td>0.000000e+00</td>\n      <td>0.0</td>\n      <td>0.000000e+00</td>\n      <td>0.0</td>\n      <td>0.000000</td>\n      <td>0.000000</td>\n      <td>0.0</td>\n    </tr>\n    <tr>\n      <th>FE0001</th>\n      <td>0.000000</td>\n      <td>0.000000</td>\n      <td>0.000000</td>\n      <td>0.000000</td>\n      <td>0.0</td>\n      <td>0.0</td>\n      <td>0.00000</td>\n      <td>0.0</td>\n      <td>0.0</td>\n      <td>0.000000</td>\n      <td>...</td>\n      <td>0.000000e+00</td>\n      <td>0.000000e+00</td>\n      <td>0.0</td>\n      <td>0.000000e+00</td>\n      <td>0.0</td>\n      <td>0.000000e+00</td>\n      <td>0.0</td>\n      <td>0.000000</td>\n      <td>0.000000</td>\n      <td>0.0</td>\n    </tr>\n  </tbody>\n</table>\n<p>63 rows × 52 columns</p>\n</div>"
     },
     "metadata": {}
    }
   ],
   "source": [
    "distsurf = disthive.groupby(['Site', 'CLC']).mean().merge(abs_surfs, left_index=True, right_index=True)\n",
    "\n",
    "# Load historical data\n",
    "phm = pd.concat(\n",
    "    [pesticides_periods,\n",
    "    heavy_metal_periods],\n",
    "    axis=1,\n",
    "    keys=['pesticide','heavymetal'],\n",
    ")\n",
    "\n",
    "# Taking the max of the historical measurements\n",
    "phm_grouped = phm.groupby('Site').max().fillna(0)\n",
    "\n",
    "# Categorize pesticides\n",
    "pesticides_family = pd.DataFrame({'pesticide_family': pesticides[[\"familyEN\"]].fillna(\"UNKNOWN\").apply(lambda r: r[0].split(','), axis=1).explode()})\n",
    "pesticide_cat = pd.DataFrame({'pesticide_cat': pesticides[[\"typeEN\"]].fillna(\"UNKNOWN\").apply(lambda r: r[0].split(','), axis=1).explode()})\n",
    "\n",
    "# Pesticide and heavy metals flags\n",
    "phm_flags = get_phm_flags(phm_grouped, pesticide_cat, pesticides_family)\n",
    "\n",
    "# We've now got basic features and basic things to predict.\n",
    "# Next steps are to engineer these features, have a look at them and select a subset from the things to predict\n",
    "features = distsurf.unstack().fillna(0)\n",
    "\n",
    "# Contains the level, above_LMR, present for the pesticides, pesticides_category, pesticides_family, heavy_metal\n",
    "to_predict = phm_flags\n",
    "\n",
    "print(\"Features categories: \" + str(features.columns.get_level_values(0).unique()))\n",
    "\n",
    "print(\"To predict categories: \" + str(to_predict.columns.get_level_values(0).unique()))\n",
    "print(\"To predict subcategories: \" + str(to_predict.columns.get_level_values(1).unique()))\n",
    "\n",
    "display(to_predict)\n",
    "display(features)"
   ]
  },
  {
   "cell_type": "code",
   "execution_count": 149,
   "metadata": {},
   "outputs": [
    {
     "output_type": "execute_result",
     "data": {
      "text/plain": [
       "(48, 52)"
      ]
     },
     "metadata": {},
     "execution_count": 149
    }
   ],
   "source": [
    "for index in features.index:\n",
    "    if index not in to_predict.index:\n",
    "       features = features.drop(index, axis=0)\n",
    "\n",
    "features.shape"
   ]
  },
  {
   "cell_type": "code",
   "execution_count": 150,
   "metadata": {},
   "outputs": [
    {
     "output_type": "stream",
     "name": "stdout",
     "text": [
      "Features categories: Index(['dist', 'surface'], dtype='object')\nTo predict categories: Index(['pesticide', 'pesticide_cat', 'pesticide_family', 'heavymetal'], dtype='object')\nTo predict subcategories: Index(['level', 'above_LMR', 'present'], dtype='object')\n"
     ]
    },
    {
     "output_type": "display_data",
     "data": {
      "text/plain": "       pesticide                                                    \\\n           level                                                     \n       Aclonifen Ametoctradin Anthraquinone Azoxystrobin Benalaxyl   \nSite                                                                 \nB0012     0.0048       0.0000        0.0000       0.0000    0.0000   \nB0017     0.0000       0.0000        0.0000       0.0000    0.1850   \nB0019     0.0000       0.0000        0.0000       0.0000    0.0213   \nB0021     0.0000       0.0000        0.0000       0.0000    0.0000   \nB0023     0.0000       0.0000        0.0000       0.0000    0.0000   \nB0032     0.0000       0.0000        0.0000       0.0000    0.0590   \nB0037     0.0043       0.0000        0.0039       0.0000    0.0000   \nB0039     0.0037       0.0000        0.0000       0.0000    0.0070   \nB0041     0.0052       0.0000        0.0000       0.0000    0.0010   \nB0043     0.0120       0.0000        0.0050       0.0000    0.0061   \nB0045     0.0000       0.0000        0.0000       0.0000    0.0000   \nB0059     0.0000       0.0000        0.0000       0.0000    0.0000   \nB0061     0.0000       0.0000        0.0000       0.0000    0.0000   \nB0067     0.0054       0.0000        0.0045       0.0000    0.0000   \nB0069     0.0030       0.0000        0.0070       0.0000    0.0000   \nB0077     0.0072       0.0000        0.0047       0.0000    0.0000   \nB0093     0.0000       0.0000        0.0000       0.0000    0.1329   \nB0096     0.0000       0.0000        0.0000       0.0000    0.0000   \nB0103     0.0093       0.0000        0.0052       0.0000    0.0390   \nB0105     0.0180       0.0000        0.0045       0.0000    0.0000   \nB0116     0.0053       0.0000        0.0000       0.0000    0.0000   \nB0128     0.0000       0.0000        0.0000       0.0000    0.0000   \nB0140     0.0048       0.0000        0.0050       0.0000    0.0000   \nB0142     0.0000       0.0000        0.0000       0.0000    0.0000   \nB0152     0.0070       0.0000        0.0000       0.0000    0.0054   \nB0158     0.0000       0.0000        0.0034       0.0000    0.0984   \nB0163     0.0000       0.0000        0.0139       0.0000    0.0230   \nF0001     0.0000       0.9032        0.0000       0.0066    0.0000   \nF0003     0.0000       0.0000        0.0000       0.0000    0.0000   \nF0005     0.0000       0.0000        0.0000       0.0000    0.0000   \nF0007     0.0000       0.0000        0.0000       0.0000    0.0052   \nF0009     0.0000       0.0000        0.0000       0.0000    0.0198   \nF0011     0.0000       0.0000        0.0000       0.0000    0.0000   \nF0013     0.0000       0.0000        0.0000       0.0000    0.0407   \nF0015     0.0000       0.0000        0.0000       0.0000    0.1399   \nF0017     0.0000       0.0000        0.0065       0.0000    0.0034   \nF0019     0.0000       0.0000        0.0000       0.0000    0.0000   \nF0020     0.0000       0.0000        0.0000       0.0000    0.0640   \nF0021     0.0000       0.0055        0.0000       0.0000    0.0222   \nF0023     0.0000       0.0000        0.0000       0.0000    0.0000   \nF0025     0.0050       0.0000        0.0051       0.0000    0.0194   \nF0027     0.0000       0.0000        0.0000       0.0000    0.0000   \nF0029     0.0070       0.0000        0.0000       0.0501    0.0000   \nF0031     0.0000       0.0000        0.0000       0.0085    0.0000   \nF0033     0.0000       0.0127        0.0000       0.0000    0.0000   \nF0035     0.0000       0.0000        0.0000       0.0000    0.0000   \nF0037     0.0000       0.0000        0.0000       0.0000    0.0000   \nF0039     0.0000       0.0000        0.0000       0.0000    0.0587   \nF0041     0.0000       0.0000        0.0000       0.0000    0.0000   \nF0043     0.0000       0.0000        0.0000       0.0000    0.0000   \nF0055     0.0000       0.0000        0.0000       0.0000    0.0000   \nF0057     0.0000       0.0000        0.0000       0.0000    0.0000   \nF0061     0.0041       0.0000        0.0000       0.0252    0.1595   \nF0063     0.0000       0.0000        0.0000       0.0159    0.1004   \nF0065     0.0000       0.0000        0.0076       0.0000    0.0000   \nF0069     0.0000       0.0000        0.0000       0.0000    0.0236   \nF0071     0.0000       0.0000        0.0000       0.0000    0.0840   \nF0073     0.0110       0.0000        0.0000       4.9000    0.0206   \nFE0001    0.0000       0.0000        0.0000       0.0000    0.0049   \n\n                                                                  ...  \\\n                                                                  ...   \n       Benfluralin Benzovindiflupyr Boscalid  Captan Carbendazim  ...   \nSite                                                              ...   \nB0012        0.000           0.0000   0.0000   0.270      0.0000  ...   \nB0017        0.000           0.0000   0.0000   0.016      0.0000  ...   \nB0019        0.000           0.0000   0.0000   0.023      0.0000  ...   \nB0021        0.000           0.0000   0.0000   0.039      0.0000  ...   \nB0023        0.000           0.0000   0.0000   0.012      0.0000  ...   \nB0032        0.000           0.0000   0.0000   0.059      0.0000  ...   \nB0037        0.000           0.0000   0.0000   0.920      0.0000  ...   \nB0039        0.000           0.0000   0.0000   0.055      0.0000  ...   \nB0041        0.000           0.0000   0.0000   0.073      0.0072  ...   \nB0043        0.000           0.0000   0.0000   0.076      0.0000  ...   \nB0045        0.000           0.0000   0.0000   0.025      0.0000  ...   \nB0059        0.000           0.0000   0.0000   0.000      0.0000  ...   \nB0061        0.000           0.0000   0.0000   0.000      0.0000  ...   \nB0067        0.000           0.0000   0.0122   0.100      0.0000  ...   \nB0069        0.000           0.0000   0.0550  21.400      0.0038  ...   \nB0077        0.009           0.0000   0.5012   6.600      0.0240  ...   \nB0093        0.000           0.0000   0.0000   0.016      0.0000  ...   \nB0096        0.000           0.0000   0.0000   0.000      0.0000  ...   \nB0103        0.000           0.0000   0.0000   0.022      0.0000  ...   \nB0105        0.000           0.0067   0.0000   0.097      0.0000  ...   \nB0116        0.000           0.0000   0.0000   0.048      0.0000  ...   \nB0128        0.000           0.0000   0.0000   0.000      0.0000  ...   \nB0140        0.000           0.0000   0.0000   0.024      0.0000  ...   \nB0142        0.000           0.0000   0.0000   0.000      0.0000  ...   \nB0152        0.000           0.0000   0.0000   0.110      0.0000  ...   \nB0158        0.000           0.0085   0.0000   0.029      0.0000  ...   \nB0163        0.000           0.0000   0.0000   0.130      0.0000  ...   \nF0001        0.000           0.0000   0.0000   0.000      0.0000  ...   \nF0003        0.000           0.0000   0.0000   0.000      0.0000  ...   \nF0005        0.000           0.0000   0.0000   0.000      0.0000  ...   \nF0007        0.000           0.0000   0.0000   0.000      0.0000  ...   \nF0009        0.000           0.0000   0.0000   0.000      0.0000  ...   \nF0011        0.000           0.0000   0.0000   0.000      0.0000  ...   \nF0013        0.000           0.0000   0.0000   0.000      0.0000  ...   \nF0015        0.000           0.0000   0.0000   0.000      0.0000  ...   \nF0017        0.000           0.0000   0.0000   0.000      0.0000  ...   \nF0019        0.000           0.0000   0.0187   0.700      0.0000  ...   \nF0020        0.000           0.0000   0.0000   1.400      0.0000  ...   \nF0021        0.000           0.0000   0.0000   0.000      0.0000  ...   \nF0023        0.000           0.0000   0.0000   0.000      0.0000  ...   \nF0025        0.000           0.0000   0.0000   0.000      0.0000  ...   \nF0027        0.000           0.0000   0.0000   0.000      0.0000  ...   \nF0029        0.000           0.0000   2.6000   0.026      0.0000  ...   \nF0031        0.000           0.0000   0.0000   0.000      0.0000  ...   \nF0033        0.000           0.0000   0.0000   0.000      0.0000  ...   \nF0035        0.000           0.0000   0.0000   0.000      0.0000  ...   \nF0037        0.000           0.0000   0.0000   0.000      0.0000  ...   \nF0039        0.000           0.0000   0.0000   0.000      0.0000  ...   \nF0041        0.000           0.0000   0.0000   0.000      0.0000  ...   \nF0043        0.000           0.0000   0.0000   0.000      0.0000  ...   \nF0055        0.000           0.0000   0.0000   0.000      0.0000  ...   \nF0057        0.000           0.0000   0.0000   0.000      0.0000  ...   \nF0061        0.000           0.0000   0.0000   0.028      0.0000  ...   \nF0063        0.000           0.0000   0.0000   3.200      0.0000  ...   \nF0065        0.000           0.0000   0.0000   0.000      0.0000  ...   \nF0069        0.000           0.0000   0.0000   0.000      0.0000  ...   \nF0071        0.000           0.0000   0.0000   0.000      0.0000  ...   \nF0073        0.000           0.0000   0.2805   0.000      0.0000  ...   \nFE0001       0.000           0.0000   0.0090   0.000      0.0000  ...   \n\n       heavymetal                                                              \\\n        above_LMR                               present                         \n          Arsenic Cadmium Copper   Lead Mercury Arsenic Cadmium Copper   Lead   \nSite                                                                            \nB0012       False   False  False  False   False   False   False  False  False   \nB0017       False   False  False  False   False    True    True   True   True   \nB0019       False   False  False  False   False    True    True   True   True   \nB0021       False    True  False  False   False    True    True   True   True   \nB0023       False    True  False  False   False    True    True   True   True   \nB0032       False   False  False  False   False    True    True   True   True   \nB0037       False   False  False  False   False    True    True   True   True   \nB0039       False   False  False  False   False    True    True   True   True   \nB0041       False   False  False  False   False    True    True   True   True   \nB0043       False   False  False  False   False    True    True   True   True   \nB0045       False   False  False  False   False    True    True   True   True   \nB0059       False   False  False  False   False    True    True   True   True   \nB0061       False   False  False  False   False    True    True   True   True   \nB0067       False    True  False  False   False   False    True   True   True   \nB0069       False   False  False  False   False    True    True   True   True   \nB0077       False   False  False  False   False   False    True   True   True   \nB0093       False   False  False  False   False   False    True   True   True   \nB0096       False   False  False  False   False   False    True   True   True   \nB0103       False   False  False  False   False    True    True   True   True   \nB0105       False   False  False  False   False    True    True   True   True   \nB0116       False   False  False  False   False    True    True   True   True   \nB0128       False   False  False  False   False    True    True   True   True   \nB0140       False   False  False  False   False    True    True   True   True   \nB0142       False   False  False  False   False    True    True   True   True   \nB0152       False   False  False  False   False    True    True   True   True   \nB0158       False   False  False  False   False   False   False  False  False   \nB0163       False   False  False  False   False   False   False  False  False   \nF0001       False   False  False  False   False    True    True   True   True   \nF0003       False   False  False  False   False    True    True   True   True   \nF0005       False   False  False  False   False    True    True   True   True   \nF0007       False   False  False  False   False    True    True   True   True   \nF0009       False   False  False  False   False    True    True   True   True   \nF0011       False   False  False  False   False    True    True   True   True   \nF0013        True   False  False  False   False    True    True   True   True   \nF0015       False   False  False  False   False    True    True   True   True   \nF0017       False   False  False  False   False    True    True   True   True   \nF0019       False   False  False  False   False    True    True   True   True   \nF0020       False   False  False  False   False    True    True   True   True   \nF0021       False   False  False  False   False    True    True   True   True   \nF0023       False   False  False  False   False    True    True   True   True   \nF0025       False   False  False  False   False    True    True   True   True   \nF0027       False   False  False  False   False    True    True   True   True   \nF0029       False   False  False  False   False    True    True   True   True   \nF0031       False   False  False  False   False    True    True   True   True   \nF0033       False   False  False  False   False    True    True   True   True   \nF0035       False   False  False  False   False    True    True   True   True   \nF0037       False   False  False   True   False    True    True   True   True   \nF0039       False   False  False  False   False    True    True   True   True   \nF0041       False   False  False  False   False    True    True   True   True   \nF0043       False   False  False  False   False    True    True   True   True   \nF0055       False   False  False  False   False   False   False  False  False   \nF0057       False   False  False  False   False   False   False  False  False   \nF0061       False   False  False  False   False   False   False  False  False   \nF0063       False   False  False  False   False   False   False  False  False   \nF0065       False   False  False  False   False   False   False  False  False   \nF0069       False   False  False  False   False   False   False  False  False   \nF0071       False   False  False  False   False   False   False  False  False   \nF0073       False   False  False  False   False   False   False  False  False   \nFE0001      False   False  False  False   False    True    True   True   True   \n\n                \n                \n       Mercury  \nSite            \nB0012    False  \nB0017    False  \nB0019     True  \nB0021    False  \nB0023    False  \nB0032    False  \nB0037    False  \nB0039    False  \nB0041    False  \nB0043     True  \nB0045    False  \nB0059    False  \nB0061    False  \nB0067    False  \nB0069    False  \nB0077    False  \nB0093    False  \nB0096    False  \nB0103     True  \nB0105    False  \nB0116    False  \nB0128    False  \nB0140     True  \nB0142     True  \nB0152    False  \nB0158    False  \nB0163    False  \nF0001    False  \nF0003     True  \nF0005    False  \nF0007    False  \nF0009    False  \nF0011    False  \nF0013    False  \nF0015     True  \nF0017    False  \nF0019    False  \nF0020     True  \nF0021    False  \nF0023    False  \nF0025    False  \nF0027     True  \nF0029    False  \nF0031    False  \nF0033    False  \nF0035    False  \nF0037     True  \nF0039    False  \nF0041    False  \nF0043    False  \nF0055    False  \nF0057    False  \nF0061    False  \nF0063    False  \nF0065    False  \nF0069    False  \nF0071    False  \nF0073    False  \nFE0001   False  \n\n[59 rows x 492 columns]",
      "text/html": "<div>\n<style scoped>\n    .dataframe tbody tr th:only-of-type {\n        vertical-align: middle;\n    }\n\n    .dataframe tbody tr th {\n        vertical-align: top;\n    }\n\n    .dataframe thead tr th {\n        text-align: left;\n    }\n\n    .dataframe thead tr:last-of-type th {\n        text-align: right;\n    }\n</style>\n<table border=\"1\" class=\"dataframe\">\n  <thead>\n    <tr>\n      <th></th>\n      <th colspan=\"10\" halign=\"left\">pesticide</th>\n      <th>...</th>\n      <th colspan=\"10\" halign=\"left\">heavymetal</th>\n    </tr>\n    <tr>\n      <th></th>\n      <th colspan=\"10\" halign=\"left\">level</th>\n      <th>...</th>\n      <th colspan=\"5\" halign=\"left\">above_LMR</th>\n      <th colspan=\"5\" halign=\"left\">present</th>\n    </tr>\n    <tr>\n      <th></th>\n      <th>Aclonifen</th>\n      <th>Ametoctradin</th>\n      <th>Anthraquinone</th>\n      <th>Azoxystrobin</th>\n      <th>Benalaxyl</th>\n      <th>Benfluralin</th>\n      <th>Benzovindiflupyr</th>\n      <th>Boscalid</th>\n      <th>Captan</th>\n      <th>Carbendazim</th>\n      <th>...</th>\n      <th>Arsenic</th>\n      <th>Cadmium</th>\n      <th>Copper</th>\n      <th>Lead</th>\n      <th>Mercury</th>\n      <th>Arsenic</th>\n      <th>Cadmium</th>\n      <th>Copper</th>\n      <th>Lead</th>\n      <th>Mercury</th>\n    </tr>\n    <tr>\n      <th>Site</th>\n      <th></th>\n      <th></th>\n      <th></th>\n      <th></th>\n      <th></th>\n      <th></th>\n      <th></th>\n      <th></th>\n      <th></th>\n      <th></th>\n      <th></th>\n      <th></th>\n      <th></th>\n      <th></th>\n      <th></th>\n      <th></th>\n      <th></th>\n      <th></th>\n      <th></th>\n      <th></th>\n      <th></th>\n    </tr>\n  </thead>\n  <tbody>\n    <tr>\n      <th>B0012</th>\n      <td>0.0048</td>\n      <td>0.0000</td>\n      <td>0.0000</td>\n      <td>0.0000</td>\n      <td>0.0000</td>\n      <td>0.000</td>\n      <td>0.0000</td>\n      <td>0.0000</td>\n      <td>0.270</td>\n      <td>0.0000</td>\n      <td>...</td>\n      <td>False</td>\n      <td>False</td>\n      <td>False</td>\n      <td>False</td>\n      <td>False</td>\n      <td>False</td>\n      <td>False</td>\n      <td>False</td>\n      <td>False</td>\n      <td>False</td>\n    </tr>\n    <tr>\n      <th>B0017</th>\n      <td>0.0000</td>\n      <td>0.0000</td>\n      <td>0.0000</td>\n      <td>0.0000</td>\n      <td>0.1850</td>\n      <td>0.000</td>\n      <td>0.0000</td>\n      <td>0.0000</td>\n      <td>0.016</td>\n      <td>0.0000</td>\n      <td>...</td>\n      <td>False</td>\n      <td>False</td>\n      <td>False</td>\n      <td>False</td>\n      <td>False</td>\n      <td>True</td>\n      <td>True</td>\n      <td>True</td>\n      <td>True</td>\n      <td>False</td>\n    </tr>\n    <tr>\n      <th>B0019</th>\n      <td>0.0000</td>\n      <td>0.0000</td>\n      <td>0.0000</td>\n      <td>0.0000</td>\n      <td>0.0213</td>\n      <td>0.000</td>\n      <td>0.0000</td>\n      <td>0.0000</td>\n      <td>0.023</td>\n      <td>0.0000</td>\n      <td>...</td>\n      <td>False</td>\n      <td>False</td>\n      <td>False</td>\n      <td>False</td>\n      <td>False</td>\n      <td>True</td>\n      <td>True</td>\n      <td>True</td>\n      <td>True</td>\n      <td>True</td>\n    </tr>\n    <tr>\n      <th>B0021</th>\n      <td>0.0000</td>\n      <td>0.0000</td>\n      <td>0.0000</td>\n      <td>0.0000</td>\n      <td>0.0000</td>\n      <td>0.000</td>\n      <td>0.0000</td>\n      <td>0.0000</td>\n      <td>0.039</td>\n      <td>0.0000</td>\n      <td>...</td>\n      <td>False</td>\n      <td>True</td>\n      <td>False</td>\n      <td>False</td>\n      <td>False</td>\n      <td>True</td>\n      <td>True</td>\n      <td>True</td>\n      <td>True</td>\n      <td>False</td>\n    </tr>\n    <tr>\n      <th>B0023</th>\n      <td>0.0000</td>\n      <td>0.0000</td>\n      <td>0.0000</td>\n      <td>0.0000</td>\n      <td>0.0000</td>\n      <td>0.000</td>\n      <td>0.0000</td>\n      <td>0.0000</td>\n      <td>0.012</td>\n      <td>0.0000</td>\n      <td>...</td>\n      <td>False</td>\n      <td>True</td>\n      <td>False</td>\n      <td>False</td>\n      <td>False</td>\n      <td>True</td>\n      <td>True</td>\n      <td>True</td>\n      <td>True</td>\n      <td>False</td>\n    </tr>\n    <tr>\n      <th>B0032</th>\n      <td>0.0000</td>\n      <td>0.0000</td>\n      <td>0.0000</td>\n      <td>0.0000</td>\n      <td>0.0590</td>\n      <td>0.000</td>\n      <td>0.0000</td>\n      <td>0.0000</td>\n      <td>0.059</td>\n      <td>0.0000</td>\n      <td>...</td>\n      <td>False</td>\n      <td>False</td>\n      <td>False</td>\n      <td>False</td>\n      <td>False</td>\n      <td>True</td>\n      <td>True</td>\n      <td>True</td>\n      <td>True</td>\n      <td>False</td>\n    </tr>\n    <tr>\n      <th>B0037</th>\n      <td>0.0043</td>\n      <td>0.0000</td>\n      <td>0.0039</td>\n      <td>0.0000</td>\n      <td>0.0000</td>\n      <td>0.000</td>\n      <td>0.0000</td>\n      <td>0.0000</td>\n      <td>0.920</td>\n      <td>0.0000</td>\n      <td>...</td>\n      <td>False</td>\n      <td>False</td>\n      <td>False</td>\n      <td>False</td>\n      <td>False</td>\n      <td>True</td>\n      <td>True</td>\n      <td>True</td>\n      <td>True</td>\n      <td>False</td>\n    </tr>\n    <tr>\n      <th>B0039</th>\n      <td>0.0037</td>\n      <td>0.0000</td>\n      <td>0.0000</td>\n      <td>0.0000</td>\n      <td>0.0070</td>\n      <td>0.000</td>\n      <td>0.0000</td>\n      <td>0.0000</td>\n      <td>0.055</td>\n      <td>0.0000</td>\n      <td>...</td>\n      <td>False</td>\n      <td>False</td>\n      <td>False</td>\n      <td>False</td>\n      <td>False</td>\n      <td>True</td>\n      <td>True</td>\n      <td>True</td>\n      <td>True</td>\n      <td>False</td>\n    </tr>\n    <tr>\n      <th>B0041</th>\n      <td>0.0052</td>\n      <td>0.0000</td>\n      <td>0.0000</td>\n      <td>0.0000</td>\n      <td>0.0010</td>\n      <td>0.000</td>\n      <td>0.0000</td>\n      <td>0.0000</td>\n      <td>0.073</td>\n      <td>0.0072</td>\n      <td>...</td>\n      <td>False</td>\n      <td>False</td>\n      <td>False</td>\n      <td>False</td>\n      <td>False</td>\n      <td>True</td>\n      <td>True</td>\n      <td>True</td>\n      <td>True</td>\n      <td>False</td>\n    </tr>\n    <tr>\n      <th>B0043</th>\n      <td>0.0120</td>\n      <td>0.0000</td>\n      <td>0.0050</td>\n      <td>0.0000</td>\n      <td>0.0061</td>\n      <td>0.000</td>\n      <td>0.0000</td>\n      <td>0.0000</td>\n      <td>0.076</td>\n      <td>0.0000</td>\n      <td>...</td>\n      <td>False</td>\n      <td>False</td>\n      <td>False</td>\n      <td>False</td>\n      <td>False</td>\n      <td>True</td>\n      <td>True</td>\n      <td>True</td>\n      <td>True</td>\n      <td>True</td>\n    </tr>\n    <tr>\n      <th>B0045</th>\n      <td>0.0000</td>\n      <td>0.0000</td>\n      <td>0.0000</td>\n      <td>0.0000</td>\n      <td>0.0000</td>\n      <td>0.000</td>\n      <td>0.0000</td>\n      <td>0.0000</td>\n      <td>0.025</td>\n      <td>0.0000</td>\n      <td>...</td>\n      <td>False</td>\n      <td>False</td>\n      <td>False</td>\n      <td>False</td>\n      <td>False</td>\n      <td>True</td>\n      <td>True</td>\n      <td>True</td>\n      <td>True</td>\n      <td>False</td>\n    </tr>\n    <tr>\n      <th>B0059</th>\n      <td>0.0000</td>\n      <td>0.0000</td>\n      <td>0.0000</td>\n      <td>0.0000</td>\n      <td>0.0000</td>\n      <td>0.000</td>\n      <td>0.0000</td>\n      <td>0.0000</td>\n      <td>0.000</td>\n      <td>0.0000</td>\n      <td>...</td>\n      <td>False</td>\n      <td>False</td>\n      <td>False</td>\n      <td>False</td>\n      <td>False</td>\n      <td>True</td>\n      <td>True</td>\n      <td>True</td>\n      <td>True</td>\n      <td>False</td>\n    </tr>\n    <tr>\n      <th>B0061</th>\n      <td>0.0000</td>\n      <td>0.0000</td>\n      <td>0.0000</td>\n      <td>0.0000</td>\n      <td>0.0000</td>\n      <td>0.000</td>\n      <td>0.0000</td>\n      <td>0.0000</td>\n      <td>0.000</td>\n      <td>0.0000</td>\n      <td>...</td>\n      <td>False</td>\n      <td>False</td>\n      <td>False</td>\n      <td>False</td>\n      <td>False</td>\n      <td>True</td>\n      <td>True</td>\n      <td>True</td>\n      <td>True</td>\n      <td>False</td>\n    </tr>\n    <tr>\n      <th>B0067</th>\n      <td>0.0054</td>\n      <td>0.0000</td>\n      <td>0.0045</td>\n      <td>0.0000</td>\n      <td>0.0000</td>\n      <td>0.000</td>\n      <td>0.0000</td>\n      <td>0.0122</td>\n      <td>0.100</td>\n      <td>0.0000</td>\n      <td>...</td>\n      <td>False</td>\n      <td>True</td>\n      <td>False</td>\n      <td>False</td>\n      <td>False</td>\n      <td>False</td>\n      <td>True</td>\n      <td>True</td>\n      <td>True</td>\n      <td>False</td>\n    </tr>\n    <tr>\n      <th>B0069</th>\n      <td>0.0030</td>\n      <td>0.0000</td>\n      <td>0.0070</td>\n      <td>0.0000</td>\n      <td>0.0000</td>\n      <td>0.000</td>\n      <td>0.0000</td>\n      <td>0.0550</td>\n      <td>21.400</td>\n      <td>0.0038</td>\n      <td>...</td>\n      <td>False</td>\n      <td>False</td>\n      <td>False</td>\n      <td>False</td>\n      <td>False</td>\n      <td>True</td>\n      <td>True</td>\n      <td>True</td>\n      <td>True</td>\n      <td>False</td>\n    </tr>\n    <tr>\n      <th>B0077</th>\n      <td>0.0072</td>\n      <td>0.0000</td>\n      <td>0.0047</td>\n      <td>0.0000</td>\n      <td>0.0000</td>\n      <td>0.009</td>\n      <td>0.0000</td>\n      <td>0.5012</td>\n      <td>6.600</td>\n      <td>0.0240</td>\n      <td>...</td>\n      <td>False</td>\n      <td>False</td>\n      <td>False</td>\n      <td>False</td>\n      <td>False</td>\n      <td>False</td>\n      <td>True</td>\n      <td>True</td>\n      <td>True</td>\n      <td>False</td>\n    </tr>\n    <tr>\n      <th>B0093</th>\n      <td>0.0000</td>\n      <td>0.0000</td>\n      <td>0.0000</td>\n      <td>0.0000</td>\n      <td>0.1329</td>\n      <td>0.000</td>\n      <td>0.0000</td>\n      <td>0.0000</td>\n      <td>0.016</td>\n      <td>0.0000</td>\n      <td>...</td>\n      <td>False</td>\n      <td>False</td>\n      <td>False</td>\n      <td>False</td>\n      <td>False</td>\n      <td>False</td>\n      <td>True</td>\n      <td>True</td>\n      <td>True</td>\n      <td>False</td>\n    </tr>\n    <tr>\n      <th>B0096</th>\n      <td>0.0000</td>\n      <td>0.0000</td>\n      <td>0.0000</td>\n      <td>0.0000</td>\n      <td>0.0000</td>\n      <td>0.000</td>\n      <td>0.0000</td>\n      <td>0.0000</td>\n      <td>0.000</td>\n      <td>0.0000</td>\n      <td>...</td>\n      <td>False</td>\n      <td>False</td>\n      <td>False</td>\n      <td>False</td>\n      <td>False</td>\n      <td>False</td>\n      <td>True</td>\n      <td>True</td>\n      <td>True</td>\n      <td>False</td>\n    </tr>\n    <tr>\n      <th>B0103</th>\n      <td>0.0093</td>\n      <td>0.0000</td>\n      <td>0.0052</td>\n      <td>0.0000</td>\n      <td>0.0390</td>\n      <td>0.000</td>\n      <td>0.0000</td>\n      <td>0.0000</td>\n      <td>0.022</td>\n      <td>0.0000</td>\n      <td>...</td>\n      <td>False</td>\n      <td>False</td>\n      <td>False</td>\n      <td>False</td>\n      <td>False</td>\n      <td>True</td>\n      <td>True</td>\n      <td>True</td>\n      <td>True</td>\n      <td>True</td>\n    </tr>\n    <tr>\n      <th>B0105</th>\n      <td>0.0180</td>\n      <td>0.0000</td>\n      <td>0.0045</td>\n      <td>0.0000</td>\n      <td>0.0000</td>\n      <td>0.000</td>\n      <td>0.0067</td>\n      <td>0.0000</td>\n      <td>0.097</td>\n      <td>0.0000</td>\n      <td>...</td>\n      <td>False</td>\n      <td>False</td>\n      <td>False</td>\n      <td>False</td>\n      <td>False</td>\n      <td>True</td>\n      <td>True</td>\n      <td>True</td>\n      <td>True</td>\n      <td>False</td>\n    </tr>\n    <tr>\n      <th>B0116</th>\n      <td>0.0053</td>\n      <td>0.0000</td>\n      <td>0.0000</td>\n      <td>0.0000</td>\n      <td>0.0000</td>\n      <td>0.000</td>\n      <td>0.0000</td>\n      <td>0.0000</td>\n      <td>0.048</td>\n      <td>0.0000</td>\n      <td>...</td>\n      <td>False</td>\n      <td>False</td>\n      <td>False</td>\n      <td>False</td>\n      <td>False</td>\n      <td>True</td>\n      <td>True</td>\n      <td>True</td>\n      <td>True</td>\n      <td>False</td>\n    </tr>\n    <tr>\n      <th>B0128</th>\n      <td>0.0000</td>\n      <td>0.0000</td>\n      <td>0.0000</td>\n      <td>0.0000</td>\n      <td>0.0000</td>\n      <td>0.000</td>\n      <td>0.0000</td>\n      <td>0.0000</td>\n      <td>0.000</td>\n      <td>0.0000</td>\n      <td>...</td>\n      <td>False</td>\n      <td>False</td>\n      <td>False</td>\n      <td>False</td>\n      <td>False</td>\n      <td>True</td>\n      <td>True</td>\n      <td>True</td>\n      <td>True</td>\n      <td>False</td>\n    </tr>\n    <tr>\n      <th>B0140</th>\n      <td>0.0048</td>\n      <td>0.0000</td>\n      <td>0.0050</td>\n      <td>0.0000</td>\n      <td>0.0000</td>\n      <td>0.000</td>\n      <td>0.0000</td>\n      <td>0.0000</td>\n      <td>0.024</td>\n      <td>0.0000</td>\n      <td>...</td>\n      <td>False</td>\n      <td>False</td>\n      <td>False</td>\n      <td>False</td>\n      <td>False</td>\n      <td>True</td>\n      <td>True</td>\n      <td>True</td>\n      <td>True</td>\n      <td>True</td>\n    </tr>\n    <tr>\n      <th>B0142</th>\n      <td>0.0000</td>\n      <td>0.0000</td>\n      <td>0.0000</td>\n      <td>0.0000</td>\n      <td>0.0000</td>\n      <td>0.000</td>\n      <td>0.0000</td>\n      <td>0.0000</td>\n      <td>0.000</td>\n      <td>0.0000</td>\n      <td>...</td>\n      <td>False</td>\n      <td>False</td>\n      <td>False</td>\n      <td>False</td>\n      <td>False</td>\n      <td>True</td>\n      <td>True</td>\n      <td>True</td>\n      <td>True</td>\n      <td>True</td>\n    </tr>\n    <tr>\n      <th>B0152</th>\n      <td>0.0070</td>\n      <td>0.0000</td>\n      <td>0.0000</td>\n      <td>0.0000</td>\n      <td>0.0054</td>\n      <td>0.000</td>\n      <td>0.0000</td>\n      <td>0.0000</td>\n      <td>0.110</td>\n      <td>0.0000</td>\n      <td>...</td>\n      <td>False</td>\n      <td>False</td>\n      <td>False</td>\n      <td>False</td>\n      <td>False</td>\n      <td>True</td>\n      <td>True</td>\n      <td>True</td>\n      <td>True</td>\n      <td>False</td>\n    </tr>\n    <tr>\n      <th>B0158</th>\n      <td>0.0000</td>\n      <td>0.0000</td>\n      <td>0.0034</td>\n      <td>0.0000</td>\n      <td>0.0984</td>\n      <td>0.000</td>\n      <td>0.0085</td>\n      <td>0.0000</td>\n      <td>0.029</td>\n      <td>0.0000</td>\n      <td>...</td>\n      <td>False</td>\n      <td>False</td>\n      <td>False</td>\n      <td>False</td>\n      <td>False</td>\n      <td>False</td>\n      <td>False</td>\n      <td>False</td>\n      <td>False</td>\n      <td>False</td>\n    </tr>\n    <tr>\n      <th>B0163</th>\n      <td>0.0000</td>\n      <td>0.0000</td>\n      <td>0.0139</td>\n      <td>0.0000</td>\n      <td>0.0230</td>\n      <td>0.000</td>\n      <td>0.0000</td>\n      <td>0.0000</td>\n      <td>0.130</td>\n      <td>0.0000</td>\n      <td>...</td>\n      <td>False</td>\n      <td>False</td>\n      <td>False</td>\n      <td>False</td>\n      <td>False</td>\n      <td>False</td>\n      <td>False</td>\n      <td>False</td>\n      <td>False</td>\n      <td>False</td>\n    </tr>\n    <tr>\n      <th>F0001</th>\n      <td>0.0000</td>\n      <td>0.9032</td>\n      <td>0.0000</td>\n      <td>0.0066</td>\n      <td>0.0000</td>\n      <td>0.000</td>\n      <td>0.0000</td>\n      <td>0.0000</td>\n      <td>0.000</td>\n      <td>0.0000</td>\n      <td>...</td>\n      <td>False</td>\n      <td>False</td>\n      <td>False</td>\n      <td>False</td>\n      <td>False</td>\n      <td>True</td>\n      <td>True</td>\n      <td>True</td>\n      <td>True</td>\n      <td>False</td>\n    </tr>\n    <tr>\n      <th>F0003</th>\n      <td>0.0000</td>\n      <td>0.0000</td>\n      <td>0.0000</td>\n      <td>0.0000</td>\n      <td>0.0000</td>\n      <td>0.000</td>\n      <td>0.0000</td>\n      <td>0.0000</td>\n      <td>0.000</td>\n      <td>0.0000</td>\n      <td>...</td>\n      <td>False</td>\n      <td>False</td>\n      <td>False</td>\n      <td>False</td>\n      <td>False</td>\n      <td>True</td>\n      <td>True</td>\n      <td>True</td>\n      <td>True</td>\n      <td>True</td>\n    </tr>\n    <tr>\n      <th>F0005</th>\n      <td>0.0000</td>\n      <td>0.0000</td>\n      <td>0.0000</td>\n      <td>0.0000</td>\n      <td>0.0000</td>\n      <td>0.000</td>\n      <td>0.0000</td>\n      <td>0.0000</td>\n      <td>0.000</td>\n      <td>0.0000</td>\n      <td>...</td>\n      <td>False</td>\n      <td>False</td>\n      <td>False</td>\n      <td>False</td>\n      <td>False</td>\n      <td>True</td>\n      <td>True</td>\n      <td>True</td>\n      <td>True</td>\n      <td>False</td>\n    </tr>\n    <tr>\n      <th>F0007</th>\n      <td>0.0000</td>\n      <td>0.0000</td>\n      <td>0.0000</td>\n      <td>0.0000</td>\n      <td>0.0052</td>\n      <td>0.000</td>\n      <td>0.0000</td>\n      <td>0.0000</td>\n      <td>0.000</td>\n      <td>0.0000</td>\n      <td>...</td>\n      <td>False</td>\n      <td>False</td>\n      <td>False</td>\n      <td>False</td>\n      <td>False</td>\n      <td>True</td>\n      <td>True</td>\n      <td>True</td>\n      <td>True</td>\n      <td>False</td>\n    </tr>\n    <tr>\n      <th>F0009</th>\n      <td>0.0000</td>\n      <td>0.0000</td>\n      <td>0.0000</td>\n      <td>0.0000</td>\n      <td>0.0198</td>\n      <td>0.000</td>\n      <td>0.0000</td>\n      <td>0.0000</td>\n      <td>0.000</td>\n      <td>0.0000</td>\n      <td>...</td>\n      <td>False</td>\n      <td>False</td>\n      <td>False</td>\n      <td>False</td>\n      <td>False</td>\n      <td>True</td>\n      <td>True</td>\n      <td>True</td>\n      <td>True</td>\n      <td>False</td>\n    </tr>\n    <tr>\n      <th>F0011</th>\n      <td>0.0000</td>\n      <td>0.0000</td>\n      <td>0.0000</td>\n      <td>0.0000</td>\n      <td>0.0000</td>\n      <td>0.000</td>\n      <td>0.0000</td>\n      <td>0.0000</td>\n      <td>0.000</td>\n      <td>0.0000</td>\n      <td>...</td>\n      <td>False</td>\n      <td>False</td>\n      <td>False</td>\n      <td>False</td>\n      <td>False</td>\n      <td>True</td>\n      <td>True</td>\n      <td>True</td>\n      <td>True</td>\n      <td>False</td>\n    </tr>\n    <tr>\n      <th>F0013</th>\n      <td>0.0000</td>\n      <td>0.0000</td>\n      <td>0.0000</td>\n      <td>0.0000</td>\n      <td>0.0407</td>\n      <td>0.000</td>\n      <td>0.0000</td>\n      <td>0.0000</td>\n      <td>0.000</td>\n      <td>0.0000</td>\n      <td>...</td>\n      <td>True</td>\n      <td>False</td>\n      <td>False</td>\n      <td>False</td>\n      <td>False</td>\n      <td>True</td>\n      <td>True</td>\n      <td>True</td>\n      <td>True</td>\n      <td>False</td>\n    </tr>\n    <tr>\n      <th>F0015</th>\n      <td>0.0000</td>\n      <td>0.0000</td>\n      <td>0.0000</td>\n      <td>0.0000</td>\n      <td>0.1399</td>\n      <td>0.000</td>\n      <td>0.0000</td>\n      <td>0.0000</td>\n      <td>0.000</td>\n      <td>0.0000</td>\n      <td>...</td>\n      <td>False</td>\n      <td>False</td>\n      <td>False</td>\n      <td>False</td>\n      <td>False</td>\n      <td>True</td>\n      <td>True</td>\n      <td>True</td>\n      <td>True</td>\n      <td>True</td>\n    </tr>\n    <tr>\n      <th>F0017</th>\n      <td>0.0000</td>\n      <td>0.0000</td>\n      <td>0.0065</td>\n      <td>0.0000</td>\n      <td>0.0034</td>\n      <td>0.000</td>\n      <td>0.0000</td>\n      <td>0.0000</td>\n      <td>0.000</td>\n      <td>0.0000</td>\n      <td>...</td>\n      <td>False</td>\n      <td>False</td>\n      <td>False</td>\n      <td>False</td>\n      <td>False</td>\n      <td>True</td>\n      <td>True</td>\n      <td>True</td>\n      <td>True</td>\n      <td>False</td>\n    </tr>\n    <tr>\n      <th>F0019</th>\n      <td>0.0000</td>\n      <td>0.0000</td>\n      <td>0.0000</td>\n      <td>0.0000</td>\n      <td>0.0000</td>\n      <td>0.000</td>\n      <td>0.0000</td>\n      <td>0.0187</td>\n      <td>0.700</td>\n      <td>0.0000</td>\n      <td>...</td>\n      <td>False</td>\n      <td>False</td>\n      <td>False</td>\n      <td>False</td>\n      <td>False</td>\n      <td>True</td>\n      <td>True</td>\n      <td>True</td>\n      <td>True</td>\n      <td>False</td>\n    </tr>\n    <tr>\n      <th>F0020</th>\n      <td>0.0000</td>\n      <td>0.0000</td>\n      <td>0.0000</td>\n      <td>0.0000</td>\n      <td>0.0640</td>\n      <td>0.000</td>\n      <td>0.0000</td>\n      <td>0.0000</td>\n      <td>1.400</td>\n      <td>0.0000</td>\n      <td>...</td>\n      <td>False</td>\n      <td>False</td>\n      <td>False</td>\n      <td>False</td>\n      <td>False</td>\n      <td>True</td>\n      <td>True</td>\n      <td>True</td>\n      <td>True</td>\n      <td>True</td>\n    </tr>\n    <tr>\n      <th>F0021</th>\n      <td>0.0000</td>\n      <td>0.0055</td>\n      <td>0.0000</td>\n      <td>0.0000</td>\n      <td>0.0222</td>\n      <td>0.000</td>\n      <td>0.0000</td>\n      <td>0.0000</td>\n      <td>0.000</td>\n      <td>0.0000</td>\n      <td>...</td>\n      <td>False</td>\n      <td>False</td>\n      <td>False</td>\n      <td>False</td>\n      <td>False</td>\n      <td>True</td>\n      <td>True</td>\n      <td>True</td>\n      <td>True</td>\n      <td>False</td>\n    </tr>\n    <tr>\n      <th>F0023</th>\n      <td>0.0000</td>\n      <td>0.0000</td>\n      <td>0.0000</td>\n      <td>0.0000</td>\n      <td>0.0000</td>\n      <td>0.000</td>\n      <td>0.0000</td>\n      <td>0.0000</td>\n      <td>0.000</td>\n      <td>0.0000</td>\n      <td>...</td>\n      <td>False</td>\n      <td>False</td>\n      <td>False</td>\n      <td>False</td>\n      <td>False</td>\n      <td>True</td>\n      <td>True</td>\n      <td>True</td>\n      <td>True</td>\n      <td>False</td>\n    </tr>\n    <tr>\n      <th>F0025</th>\n      <td>0.0050</td>\n      <td>0.0000</td>\n      <td>0.0051</td>\n      <td>0.0000</td>\n      <td>0.0194</td>\n      <td>0.000</td>\n      <td>0.0000</td>\n      <td>0.0000</td>\n      <td>0.000</td>\n      <td>0.0000</td>\n      <td>...</td>\n      <td>False</td>\n      <td>False</td>\n      <td>False</td>\n      <td>False</td>\n      <td>False</td>\n      <td>True</td>\n      <td>True</td>\n      <td>True</td>\n      <td>True</td>\n      <td>False</td>\n    </tr>\n    <tr>\n      <th>F0027</th>\n      <td>0.0000</td>\n      <td>0.0000</td>\n      <td>0.0000</td>\n      <td>0.0000</td>\n      <td>0.0000</td>\n      <td>0.000</td>\n      <td>0.0000</td>\n      <td>0.0000</td>\n      <td>0.000</td>\n      <td>0.0000</td>\n      <td>...</td>\n      <td>False</td>\n      <td>False</td>\n      <td>False</td>\n      <td>False</td>\n      <td>False</td>\n      <td>True</td>\n      <td>True</td>\n      <td>True</td>\n      <td>True</td>\n      <td>True</td>\n    </tr>\n    <tr>\n      <th>F0029</th>\n      <td>0.0070</td>\n      <td>0.0000</td>\n      <td>0.0000</td>\n      <td>0.0501</td>\n      <td>0.0000</td>\n      <td>0.000</td>\n      <td>0.0000</td>\n      <td>2.6000</td>\n      <td>0.026</td>\n      <td>0.0000</td>\n      <td>...</td>\n      <td>False</td>\n      <td>False</td>\n      <td>False</td>\n      <td>False</td>\n      <td>False</td>\n      <td>True</td>\n      <td>True</td>\n      <td>True</td>\n      <td>True</td>\n      <td>False</td>\n    </tr>\n    <tr>\n      <th>F0031</th>\n      <td>0.0000</td>\n      <td>0.0000</td>\n      <td>0.0000</td>\n      <td>0.0085</td>\n      <td>0.0000</td>\n      <td>0.000</td>\n      <td>0.0000</td>\n      <td>0.0000</td>\n      <td>0.000</td>\n      <td>0.0000</td>\n      <td>...</td>\n      <td>False</td>\n      <td>False</td>\n      <td>False</td>\n      <td>False</td>\n      <td>False</td>\n      <td>True</td>\n      <td>True</td>\n      <td>True</td>\n      <td>True</td>\n      <td>False</td>\n    </tr>\n    <tr>\n      <th>F0033</th>\n      <td>0.0000</td>\n      <td>0.0127</td>\n      <td>0.0000</td>\n      <td>0.0000</td>\n      <td>0.0000</td>\n      <td>0.000</td>\n      <td>0.0000</td>\n      <td>0.0000</td>\n      <td>0.000</td>\n      <td>0.0000</td>\n      <td>...</td>\n      <td>False</td>\n      <td>False</td>\n      <td>False</td>\n      <td>False</td>\n      <td>False</td>\n      <td>True</td>\n      <td>True</td>\n      <td>True</td>\n      <td>True</td>\n      <td>False</td>\n    </tr>\n    <tr>\n      <th>F0035</th>\n      <td>0.0000</td>\n      <td>0.0000</td>\n      <td>0.0000</td>\n      <td>0.0000</td>\n      <td>0.0000</td>\n      <td>0.000</td>\n      <td>0.0000</td>\n      <td>0.0000</td>\n      <td>0.000</td>\n      <td>0.0000</td>\n      <td>...</td>\n      <td>False</td>\n      <td>False</td>\n      <td>False</td>\n      <td>False</td>\n      <td>False</td>\n      <td>True</td>\n      <td>True</td>\n      <td>True</td>\n      <td>True</td>\n      <td>False</td>\n    </tr>\n    <tr>\n      <th>F0037</th>\n      <td>0.0000</td>\n      <td>0.0000</td>\n      <td>0.0000</td>\n      <td>0.0000</td>\n      <td>0.0000</td>\n      <td>0.000</td>\n      <td>0.0000</td>\n      <td>0.0000</td>\n      <td>0.000</td>\n      <td>0.0000</td>\n      <td>...</td>\n      <td>False</td>\n      <td>False</td>\n      <td>False</td>\n      <td>True</td>\n      <td>False</td>\n      <td>True</td>\n      <td>True</td>\n      <td>True</td>\n      <td>True</td>\n      <td>True</td>\n    </tr>\n    <tr>\n      <th>F0039</th>\n      <td>0.0000</td>\n      <td>0.0000</td>\n      <td>0.0000</td>\n      <td>0.0000</td>\n      <td>0.0587</td>\n      <td>0.000</td>\n      <td>0.0000</td>\n      <td>0.0000</td>\n      <td>0.000</td>\n      <td>0.0000</td>\n      <td>...</td>\n      <td>False</td>\n      <td>False</td>\n      <td>False</td>\n      <td>False</td>\n      <td>False</td>\n      <td>True</td>\n      <td>True</td>\n      <td>True</td>\n      <td>True</td>\n      <td>False</td>\n    </tr>\n    <tr>\n      <th>F0041</th>\n      <td>0.0000</td>\n      <td>0.0000</td>\n      <td>0.0000</td>\n      <td>0.0000</td>\n      <td>0.0000</td>\n      <td>0.000</td>\n      <td>0.0000</td>\n      <td>0.0000</td>\n      <td>0.000</td>\n      <td>0.0000</td>\n      <td>...</td>\n      <td>False</td>\n      <td>False</td>\n      <td>False</td>\n      <td>False</td>\n      <td>False</td>\n      <td>True</td>\n      <td>True</td>\n      <td>True</td>\n      <td>True</td>\n      <td>False</td>\n    </tr>\n    <tr>\n      <th>F0043</th>\n      <td>0.0000</td>\n      <td>0.0000</td>\n      <td>0.0000</td>\n      <td>0.0000</td>\n      <td>0.0000</td>\n      <td>0.000</td>\n      <td>0.0000</td>\n      <td>0.0000</td>\n      <td>0.000</td>\n      <td>0.0000</td>\n      <td>...</td>\n      <td>False</td>\n      <td>False</td>\n      <td>False</td>\n      <td>False</td>\n      <td>False</td>\n      <td>True</td>\n      <td>True</td>\n      <td>True</td>\n      <td>True</td>\n      <td>False</td>\n    </tr>\n    <tr>\n      <th>F0055</th>\n      <td>0.0000</td>\n      <td>0.0000</td>\n      <td>0.0000</td>\n      <td>0.0000</td>\n      <td>0.0000</td>\n      <td>0.000</td>\n      <td>0.0000</td>\n      <td>0.0000</td>\n      <td>0.000</td>\n      <td>0.0000</td>\n      <td>...</td>\n      <td>False</td>\n      <td>False</td>\n      <td>False</td>\n      <td>False</td>\n      <td>False</td>\n      <td>False</td>\n      <td>False</td>\n      <td>False</td>\n      <td>False</td>\n      <td>False</td>\n    </tr>\n    <tr>\n      <th>F0057</th>\n      <td>0.0000</td>\n      <td>0.0000</td>\n      <td>0.0000</td>\n      <td>0.0000</td>\n      <td>0.0000</td>\n      <td>0.000</td>\n      <td>0.0000</td>\n      <td>0.0000</td>\n      <td>0.000</td>\n      <td>0.0000</td>\n      <td>...</td>\n      <td>False</td>\n      <td>False</td>\n      <td>False</td>\n      <td>False</td>\n      <td>False</td>\n      <td>False</td>\n      <td>False</td>\n      <td>False</td>\n      <td>False</td>\n      <td>False</td>\n    </tr>\n    <tr>\n      <th>F0061</th>\n      <td>0.0041</td>\n      <td>0.0000</td>\n      <td>0.0000</td>\n      <td>0.0252</td>\n      <td>0.1595</td>\n      <td>0.000</td>\n      <td>0.0000</td>\n      <td>0.0000</td>\n      <td>0.028</td>\n      <td>0.0000</td>\n      <td>...</td>\n      <td>False</td>\n      <td>False</td>\n      <td>False</td>\n      <td>False</td>\n      <td>False</td>\n      <td>False</td>\n      <td>False</td>\n      <td>False</td>\n      <td>False</td>\n      <td>False</td>\n    </tr>\n    <tr>\n      <th>F0063</th>\n      <td>0.0000</td>\n      <td>0.0000</td>\n      <td>0.0000</td>\n      <td>0.0159</td>\n      <td>0.1004</td>\n      <td>0.000</td>\n      <td>0.0000</td>\n      <td>0.0000</td>\n      <td>3.200</td>\n      <td>0.0000</td>\n      <td>...</td>\n      <td>False</td>\n      <td>False</td>\n      <td>False</td>\n      <td>False</td>\n      <td>False</td>\n      <td>False</td>\n      <td>False</td>\n      <td>False</td>\n      <td>False</td>\n      <td>False</td>\n    </tr>\n    <tr>\n      <th>F0065</th>\n      <td>0.0000</td>\n      <td>0.0000</td>\n      <td>0.0076</td>\n      <td>0.0000</td>\n      <td>0.0000</td>\n      <td>0.000</td>\n      <td>0.0000</td>\n      <td>0.0000</td>\n      <td>0.000</td>\n      <td>0.0000</td>\n      <td>...</td>\n      <td>False</td>\n      <td>False</td>\n      <td>False</td>\n      <td>False</td>\n      <td>False</td>\n      <td>False</td>\n      <td>False</td>\n      <td>False</td>\n      <td>False</td>\n      <td>False</td>\n    </tr>\n    <tr>\n      <th>F0069</th>\n      <td>0.0000</td>\n      <td>0.0000</td>\n      <td>0.0000</td>\n      <td>0.0000</td>\n      <td>0.0236</td>\n      <td>0.000</td>\n      <td>0.0000</td>\n      <td>0.0000</td>\n      <td>0.000</td>\n      <td>0.0000</td>\n      <td>...</td>\n      <td>False</td>\n      <td>False</td>\n      <td>False</td>\n      <td>False</td>\n      <td>False</td>\n      <td>False</td>\n      <td>False</td>\n      <td>False</td>\n      <td>False</td>\n      <td>False</td>\n    </tr>\n    <tr>\n      <th>F0071</th>\n      <td>0.0000</td>\n      <td>0.0000</td>\n      <td>0.0000</td>\n      <td>0.0000</td>\n      <td>0.0840</td>\n      <td>0.000</td>\n      <td>0.0000</td>\n      <td>0.0000</td>\n      <td>0.000</td>\n      <td>0.0000</td>\n      <td>...</td>\n      <td>False</td>\n      <td>False</td>\n      <td>False</td>\n      <td>False</td>\n      <td>False</td>\n      <td>False</td>\n      <td>False</td>\n      <td>False</td>\n      <td>False</td>\n      <td>False</td>\n    </tr>\n    <tr>\n      <th>F0073</th>\n      <td>0.0110</td>\n      <td>0.0000</td>\n      <td>0.0000</td>\n      <td>4.9000</td>\n      <td>0.0206</td>\n      <td>0.000</td>\n      <td>0.0000</td>\n      <td>0.2805</td>\n      <td>0.000</td>\n      <td>0.0000</td>\n      <td>...</td>\n      <td>False</td>\n      <td>False</td>\n      <td>False</td>\n      <td>False</td>\n      <td>False</td>\n      <td>False</td>\n      <td>False</td>\n      <td>False</td>\n      <td>False</td>\n      <td>False</td>\n    </tr>\n    <tr>\n      <th>FE0001</th>\n      <td>0.0000</td>\n      <td>0.0000</td>\n      <td>0.0000</td>\n      <td>0.0000</td>\n      <td>0.0049</td>\n      <td>0.000</td>\n      <td>0.0000</td>\n      <td>0.0090</td>\n      <td>0.000</td>\n      <td>0.0000</td>\n      <td>...</td>\n      <td>False</td>\n      <td>False</td>\n      <td>False</td>\n      <td>False</td>\n      <td>False</td>\n      <td>True</td>\n      <td>True</td>\n      <td>True</td>\n      <td>True</td>\n      <td>False</td>\n    </tr>\n  </tbody>\n</table>\n<p>59 rows × 492 columns</p>\n</div>"
     },
     "metadata": {}
    },
    {
     "output_type": "display_data",
     "data": {
      "text/plain": "               dist                                                  \\\nCLC             111         112          121          122  123  124   \nSite                                                                  \nB0012   1020.033273  564.609800   117.220148     0.000000  0.0  0.0   \nB0017      0.000000  230.733942  1457.209438     0.000000  0.0  0.0   \nB0019      0.000000    0.000000     0.000000     0.000000  0.0  0.0   \nB0021      0.000000    0.000000     0.000000     0.000000  0.0  0.0   \nB0023      0.000000    0.000000     0.000000     0.000000  0.0  0.0   \n...             ...         ...          ...          ...  ...  ...   \nF0069      0.000000  737.549842     0.000000     0.000000  0.0  0.0   \nF0071      0.000000    0.000000   990.596850     0.000000  0.0  0.0   \nF0073      0.000000    0.000000     0.000000     0.000000  0.0  0.0   \nF0075      0.000000  751.533157   344.517523  1444.909224  0.0  0.0   \nFE0001     0.000000    0.000000     0.000000     0.000000  0.0  0.0   \n\n                                           ...       surface                \\\nCLC            131  133  141          142  ...           312           313   \nSite                                       ...                               \nB0012      0.00000  0.0  0.0     0.000000  ...  0.000000e+00  0.000000e+00   \nB0017      0.00000  0.0  0.0     0.000000  ...  1.097484e+06  1.871540e+06   \nB0019      0.00000  0.0  0.0     0.000000  ...  5.146666e+06  1.330174e+06   \nB0021      0.00000  0.0  0.0     0.000000  ...  1.572156e+06  3.620488e+06   \nB0023      0.00000  0.0  0.0  1223.368654  ...  2.538647e+06  6.865176e+04   \n...            ...  ...  ...          ...  ...           ...           ...   \nF0069      0.00000  0.0  0.0  1094.991277  ...  0.000000e+00  0.000000e+00   \nF0071   1066.57633  0.0  0.0     0.000000  ...  4.684407e+05  0.000000e+00   \nF0073      0.00000  0.0  0.0     0.000000  ...  4.420773e+06  6.970899e+03   \nF0075      0.00000  0.0  0.0     0.000000  ...  0.000000e+00  0.000000e+00   \nFE0001     0.00000  0.0  0.0     0.000000  ...  0.000000e+00  0.000000e+00   \n\n                                                                  \\\nCLC     322           324  331           412  423            511   \nSite                                                               \nB0012   0.0  0.000000e+00  0.0  0.000000e+00  0.0  486328.326111   \nB0017   0.0  0.000000e+00  0.0  0.000000e+00  0.0       0.000000   \nB0019   0.0  0.000000e+00  0.0  3.786370e+05  0.0       0.000000   \nB0021   0.0  0.000000e+00  0.0  9.421463e+05  0.0       0.000000   \nB0023   0.0  6.979889e+05  0.0  1.809062e+06  0.0       0.000000   \n...     ...           ...  ...           ...  ...            ...   \nF0069   0.0  0.000000e+00  0.0  0.000000e+00  0.0       0.000000   \nF0071   0.0  7.933020e+05  0.0  0.000000e+00  0.0       0.000000   \nF0073   0.0  1.621549e+06  0.0  0.000000e+00  0.0       0.000000   \nF0075   0.0  0.000000e+00  0.0  0.000000e+00  0.0       0.000000   \nFE0001  0.0  0.000000e+00  0.0  0.000000e+00  0.0       0.000000   \n\n                            \nCLC               512  523  \nSite                        \nB0012        0.000000  0.0  \nB0017        0.000000  0.0  \nB0019        0.000000  0.0  \nB0021        0.000000  0.0  \nB0023        0.000000  0.0  \n...               ...  ...  \nF0069        0.000000  0.0  \nF0071   643979.018311  0.0  \nF0073        0.000000  0.0  \nF0075        0.000000  0.0  \nFE0001       0.000000  0.0  \n\n[63 rows x 52 columns]",
      "text/html": "<div>\n<style scoped>\n    .dataframe tbody tr th:only-of-type {\n        vertical-align: middle;\n    }\n\n    .dataframe tbody tr th {\n        vertical-align: top;\n    }\n\n    .dataframe thead tr th {\n        text-align: left;\n    }\n\n    .dataframe thead tr:last-of-type th {\n        text-align: right;\n    }\n</style>\n<table border=\"1\" class=\"dataframe\">\n  <thead>\n    <tr>\n      <th></th>\n      <th colspan=\"10\" halign=\"left\">dist</th>\n      <th>...</th>\n      <th colspan=\"10\" halign=\"left\">surface</th>\n    </tr>\n    <tr>\n      <th>CLC</th>\n      <th>111</th>\n      <th>112</th>\n      <th>121</th>\n      <th>122</th>\n      <th>123</th>\n      <th>124</th>\n      <th>131</th>\n      <th>133</th>\n      <th>141</th>\n      <th>142</th>\n      <th>...</th>\n      <th>312</th>\n      <th>313</th>\n      <th>322</th>\n      <th>324</th>\n      <th>331</th>\n      <th>412</th>\n      <th>423</th>\n      <th>511</th>\n      <th>512</th>\n      <th>523</th>\n    </tr>\n    <tr>\n      <th>Site</th>\n      <th></th>\n      <th></th>\n      <th></th>\n      <th></th>\n      <th></th>\n      <th></th>\n      <th></th>\n      <th></th>\n      <th></th>\n      <th></th>\n      <th></th>\n      <th></th>\n      <th></th>\n      <th></th>\n      <th></th>\n      <th></th>\n      <th></th>\n      <th></th>\n      <th></th>\n      <th></th>\n      <th></th>\n    </tr>\n  </thead>\n  <tbody>\n    <tr>\n      <th>B0012</th>\n      <td>1020.033273</td>\n      <td>564.609800</td>\n      <td>117.220148</td>\n      <td>0.000000</td>\n      <td>0.0</td>\n      <td>0.0</td>\n      <td>0.00000</td>\n      <td>0.0</td>\n      <td>0.0</td>\n      <td>0.000000</td>\n      <td>...</td>\n      <td>0.000000e+00</td>\n      <td>0.000000e+00</td>\n      <td>0.0</td>\n      <td>0.000000e+00</td>\n      <td>0.0</td>\n      <td>0.000000e+00</td>\n      <td>0.0</td>\n      <td>486328.326111</td>\n      <td>0.000000</td>\n      <td>0.0</td>\n    </tr>\n    <tr>\n      <th>B0017</th>\n      <td>0.000000</td>\n      <td>230.733942</td>\n      <td>1457.209438</td>\n      <td>0.000000</td>\n      <td>0.0</td>\n      <td>0.0</td>\n      <td>0.00000</td>\n      <td>0.0</td>\n      <td>0.0</td>\n      <td>0.000000</td>\n      <td>...</td>\n      <td>1.097484e+06</td>\n      <td>1.871540e+06</td>\n      <td>0.0</td>\n      <td>0.000000e+00</td>\n      <td>0.0</td>\n      <td>0.000000e+00</td>\n      <td>0.0</td>\n      <td>0.000000</td>\n      <td>0.000000</td>\n      <td>0.0</td>\n    </tr>\n    <tr>\n      <th>B0019</th>\n      <td>0.000000</td>\n      <td>0.000000</td>\n      <td>0.000000</td>\n      <td>0.000000</td>\n      <td>0.0</td>\n      <td>0.0</td>\n      <td>0.00000</td>\n      <td>0.0</td>\n      <td>0.0</td>\n      <td>0.000000</td>\n      <td>...</td>\n      <td>5.146666e+06</td>\n      <td>1.330174e+06</td>\n      <td>0.0</td>\n      <td>0.000000e+00</td>\n      <td>0.0</td>\n      <td>3.786370e+05</td>\n      <td>0.0</td>\n      <td>0.000000</td>\n      <td>0.000000</td>\n      <td>0.0</td>\n    </tr>\n    <tr>\n      <th>B0021</th>\n      <td>0.000000</td>\n      <td>0.000000</td>\n      <td>0.000000</td>\n      <td>0.000000</td>\n      <td>0.0</td>\n      <td>0.0</td>\n      <td>0.00000</td>\n      <td>0.0</td>\n      <td>0.0</td>\n      <td>0.000000</td>\n      <td>...</td>\n      <td>1.572156e+06</td>\n      <td>3.620488e+06</td>\n      <td>0.0</td>\n      <td>0.000000e+00</td>\n      <td>0.0</td>\n      <td>9.421463e+05</td>\n      <td>0.0</td>\n      <td>0.000000</td>\n      <td>0.000000</td>\n      <td>0.0</td>\n    </tr>\n    <tr>\n      <th>B0023</th>\n      <td>0.000000</td>\n      <td>0.000000</td>\n      <td>0.000000</td>\n      <td>0.000000</td>\n      <td>0.0</td>\n      <td>0.0</td>\n      <td>0.00000</td>\n      <td>0.0</td>\n      <td>0.0</td>\n      <td>1223.368654</td>\n      <td>...</td>\n      <td>2.538647e+06</td>\n      <td>6.865176e+04</td>\n      <td>0.0</td>\n      <td>6.979889e+05</td>\n      <td>0.0</td>\n      <td>1.809062e+06</td>\n      <td>0.0</td>\n      <td>0.000000</td>\n      <td>0.000000</td>\n      <td>0.0</td>\n    </tr>\n    <tr>\n      <th>...</th>\n      <td>...</td>\n      <td>...</td>\n      <td>...</td>\n      <td>...</td>\n      <td>...</td>\n      <td>...</td>\n      <td>...</td>\n      <td>...</td>\n      <td>...</td>\n      <td>...</td>\n      <td>...</td>\n      <td>...</td>\n      <td>...</td>\n      <td>...</td>\n      <td>...</td>\n      <td>...</td>\n      <td>...</td>\n      <td>...</td>\n      <td>...</td>\n      <td>...</td>\n      <td>...</td>\n    </tr>\n    <tr>\n      <th>F0069</th>\n      <td>0.000000</td>\n      <td>737.549842</td>\n      <td>0.000000</td>\n      <td>0.000000</td>\n      <td>0.0</td>\n      <td>0.0</td>\n      <td>0.00000</td>\n      <td>0.0</td>\n      <td>0.0</td>\n      <td>1094.991277</td>\n      <td>...</td>\n      <td>0.000000e+00</td>\n      <td>0.000000e+00</td>\n      <td>0.0</td>\n      <td>0.000000e+00</td>\n      <td>0.0</td>\n      <td>0.000000e+00</td>\n      <td>0.0</td>\n      <td>0.000000</td>\n      <td>0.000000</td>\n      <td>0.0</td>\n    </tr>\n    <tr>\n      <th>F0071</th>\n      <td>0.000000</td>\n      <td>0.000000</td>\n      <td>990.596850</td>\n      <td>0.000000</td>\n      <td>0.0</td>\n      <td>0.0</td>\n      <td>1066.57633</td>\n      <td>0.0</td>\n      <td>0.0</td>\n      <td>0.000000</td>\n      <td>...</td>\n      <td>4.684407e+05</td>\n      <td>0.000000e+00</td>\n      <td>0.0</td>\n      <td>7.933020e+05</td>\n      <td>0.0</td>\n      <td>0.000000e+00</td>\n      <td>0.0</td>\n      <td>0.000000</td>\n      <td>643979.018311</td>\n      <td>0.0</td>\n    </tr>\n    <tr>\n      <th>F0073</th>\n      <td>0.000000</td>\n      <td>0.000000</td>\n      <td>0.000000</td>\n      <td>0.000000</td>\n      <td>0.0</td>\n      <td>0.0</td>\n      <td>0.00000</td>\n      <td>0.0</td>\n      <td>0.0</td>\n      <td>0.000000</td>\n      <td>...</td>\n      <td>4.420773e+06</td>\n      <td>6.970899e+03</td>\n      <td>0.0</td>\n      <td>1.621549e+06</td>\n      <td>0.0</td>\n      <td>0.000000e+00</td>\n      <td>0.0</td>\n      <td>0.000000</td>\n      <td>0.000000</td>\n      <td>0.0</td>\n    </tr>\n    <tr>\n      <th>F0075</th>\n      <td>0.000000</td>\n      <td>751.533157</td>\n      <td>344.517523</td>\n      <td>1444.909224</td>\n      <td>0.0</td>\n      <td>0.0</td>\n      <td>0.00000</td>\n      <td>0.0</td>\n      <td>0.0</td>\n      <td>0.000000</td>\n      <td>...</td>\n      <td>0.000000e+00</td>\n      <td>0.000000e+00</td>\n      <td>0.0</td>\n      <td>0.000000e+00</td>\n      <td>0.0</td>\n      <td>0.000000e+00</td>\n      <td>0.0</td>\n      <td>0.000000</td>\n      <td>0.000000</td>\n      <td>0.0</td>\n    </tr>\n    <tr>\n      <th>FE0001</th>\n      <td>0.000000</td>\n      <td>0.000000</td>\n      <td>0.000000</td>\n      <td>0.000000</td>\n      <td>0.0</td>\n      <td>0.0</td>\n      <td>0.00000</td>\n      <td>0.0</td>\n      <td>0.0</td>\n      <td>0.000000</td>\n      <td>...</td>\n      <td>0.000000e+00</td>\n      <td>0.000000e+00</td>\n      <td>0.0</td>\n      <td>0.000000e+00</td>\n      <td>0.0</td>\n      <td>0.000000e+00</td>\n      <td>0.0</td>\n      <td>0.000000</td>\n      <td>0.000000</td>\n      <td>0.0</td>\n    </tr>\n  </tbody>\n</table>\n<p>63 rows × 52 columns</p>\n</div>"
     },
     "metadata": {}
    }
   ],
   "source": [
    "distsurf_2020 = disthive.groupby(['Site', 'CLC']).mean().merge(abs_surfs, left_index=True, right_index=True)\n",
    "\n",
    "# Load historical data\n",
    "phm = pd.concat(\n",
    "    [pesticides_periods_2020,\n",
    "    heavy_metal_periods_2020],\n",
    "    axis=1,\n",
    "    keys=['pesticide','heavymetal'],\n",
    ")\n",
    "\n",
    "# Taking the max of the historical measurements\n",
    "phm_grouped_2020 = phm.groupby('Site').max().fillna(0)\n",
    "\n",
    "# Categorize pesticides\n",
    "pesticides_family_2020 = pd.DataFrame({'pesticide_family': pesticides[[\"familyEN\"]].fillna(\"UNKNOWN\").apply(lambda r: r[0].split(','), axis=1).explode()})\n",
    "pesticide_cat_2020 = pd.DataFrame({'pesticide_cat': pesticides[[\"typeEN\"]].fillna(\"UNKNOWN\").apply(lambda r: r[0].split(','), axis=1).explode()})\n",
    "\n",
    "# Pesticide and heavy metals flags\n",
    "phm_flags_2020 = get_phm_flags(phm_grouped_2020, pesticide_cat_2020, pesticides_family_2020)\n",
    "\n",
    "# We've now got basic features and basic things to predict.\n",
    "# Next steps are to engineer these features, have a look at them and select a subset from the things to predict\n",
    "features_2020 = distsurf_2020.unstack().fillna(0)\n",
    "\n",
    "# Contains the level, above_LMR, present for the pesticides, pesticides_category, pesticides_family, heavy_metal\n",
    "to_predict_2020 = phm_flags_2020\n",
    "\n",
    "print(\"Features categories: \" + str(features_2020.columns.get_level_values(0).unique()))\n",
    "\n",
    "print(\"To predict categories: \" + str(to_predict_2020.columns.get_level_values(0).unique()))\n",
    "print(\"To predict subcategories: \" + str(to_predict_2020.columns.get_level_values(1).unique()))\n",
    "\n",
    "display(to_predict_2020)\n",
    "display(features_2020)"
   ]
  },
  {
   "cell_type": "code",
   "execution_count": 158,
   "metadata": {},
   "outputs": [
    {
     "output_type": "execute_result",
     "data": {
      "text/plain": [
       "(59, 492)"
      ]
     },
     "metadata": {},
     "execution_count": 158
    }
   ],
   "source": [
    "for index in features_2020.index:\n",
    "    if index not in to_predict_2020.index:\n",
    "       features_2020 = features_2020.drop(index, axis=0)\n",
    "\n",
    "features_2020.shape\n",
    "to_predict_2020.shape"
   ]
  },
  {
   "cell_type": "markdown",
   "metadata": {},
   "source": [
    "#### Cadmium above LMR"
   ]
  },
  {
   "cell_type": "code",
   "execution_count": 214,
   "metadata": {},
   "outputs": [],
   "source": [
    "y_test = to_predict_2020.loc[:,'heavymetal'][\"present\"]['Arsenic']\n",
    "y_train = to_predict.loc[:,'heavymetal'][\"present\"]['Arsenic']\n",
    "X_train = features\n",
    "X_test = features_2020"
   ]
  },
  {
   "cell_type": "code",
   "execution_count": 215,
   "metadata": {},
   "outputs": [
    {
     "output_type": "execute_result",
     "data": {
      "text/plain": [
       "(48,)"
      ]
     },
     "metadata": {},
     "execution_count": 215
    }
   ],
   "source": [
    "y_train.shape"
   ]
  },
  {
   "cell_type": "code",
   "execution_count": 216,
   "metadata": {},
   "outputs": [
    {
     "output_type": "stream",
     "name": "stdout",
     "text": [
      "(59, 52)\n(48, 52)\n"
     ]
    }
   ],
   "source": [
    "from sklearn.preprocessing import StandardScaler\n",
    "\n",
    "sc = StandardScaler()\n",
    "X_train = sc.fit_transform(X_train)\n",
    "X_test = sc.transform(X_test)\n",
    "print(X_test.shape)\n",
    "print(X_train.shape)"
   ]
  },
  {
   "cell_type": "code",
   "execution_count": 231,
   "metadata": {},
   "outputs": [],
   "source": [
    "from sklearn.ensemble import RandomForestClassifier\n",
    "from sklearn.neighbors import KNeighborsClassifier\n",
    "\n",
    "clf_forest=RandomForestClassifier(random_state=42)\n",
    "neigh = KNeighborsClassifier(n_neighbors=4)\n",
    "\n",
    "clf_forest.fit(X_train, y_train)\n",
    "neigh.fit(X_train, y_train)\n",
    "\n",
    "y_pred = clf_forest.predict(X_test)\n",
    "y_pred_knn = neigh.predict(X_test)"
   ]
  },
  {
   "cell_type": "code",
   "execution_count": 232,
   "metadata": {},
   "outputs": [
    {
     "output_type": "stream",
     "name": "stdout",
     "text": [
      "              precision    recall  f1-score   support\n\n       False       1.00      0.40      0.57        15\n        True       0.83      1.00      0.91        44\n\n    accuracy                           0.85        59\n   macro avg       0.92      0.70      0.74        59\nweighted avg       0.87      0.85      0.82        59\n\n"
     ]
    }
   ],
   "source": [
    "from sklearn.metrics import classification_report\n",
    "#print(classification_report(y_test,y_pred))\n",
    "print(classification_report(y_test,y_pred_knn))"
   ]
  },
  {
   "cell_type": "code",
   "execution_count": null,
   "metadata": {},
   "outputs": [],
   "source": []
  }
 ],
 "metadata": {
  "kernelspec": {
   "display_name": "Python 3",
   "language": "python",
   "name": "python3"
  },
  "language_info": {
   "codemirror_mode": {
    "name": "ipython",
    "version": 3
   },
   "file_extension": ".py",
   "mimetype": "text/x-python",
   "name": "python",
   "nbconvert_exporter": "python",
   "pygments_lexer": "ipython3",
   "version": "3.8.3-final"
  }
 },
 "nbformat": 4,
 "nbformat_minor": 4
}